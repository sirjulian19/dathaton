{
 "cells": [
  {
   "cell_type": "markdown",
   "metadata": {},
   "source": [
    "# Datathon Group 18"
   ]
  },
  {
   "cell_type": "code",
   "execution_count": 2,
   "metadata": {
    "scrolled": true
   },
   "outputs": [
    {
     "name": "stdout",
     "output_type": "stream",
     "text": [
      "CPU times: user 2.47 s, sys: 970 ms, total: 3.44 s\n",
      "Wall time: 6.61 s\n"
     ]
    }
   ],
   "source": [
    "%%time\n",
    "# Import the Pandas package\n",
    "import pandas as pd\n",
    "# Import the NumPy package\n",
    "import numpy as np\n",
    "# Import the Data functions\n",
    "import data as d\n",
    "# Import the DateTime functions\n",
    "import datetime as DT\n",
    "\n",
    "import geopandas as gp\n",
    "import seaborn as sns\n",
    "import matplotlib.pyplot as plt\n",
    "import folium\n",
    "\n",
    "from shapely.geometry import Polygon\n",
    "from shapely.ops import nearest_points\n",
    "from shapely.geometry import Point\n",
    "from shapely.geometry import shape"
   ]
  },
  {
   "cell_type": "code",
   "execution_count": 3,
   "metadata": {},
   "outputs": [
    {
     "name": "stdout",
     "output_type": "stream",
     "text": [
      "CPU times: user 45.7 s, sys: 4.32 s, total: 50 s\n",
      "Wall time: 52.7 s\n"
     ]
    }
   ],
   "source": [
    "%%time\n",
    "#Create a list of the files to work with\n",
    "# lstFiles = [\"uber_trips_2014.csv\",\"uber_trips_2015.csv\",\"green_trips.csv\",\"yellow_trips.csv\"]\n",
    "# Load the files as a DataFrames\n",
    "\n",
    "#lstDataFrames=[]\n",
    "\n",
    "#Loading the trips dataframes\n",
    "\n",
    "dfU14 = d.dataLoader(\"uber_trips_2014.csv\")\n",
    "dfU15 = d.dataLoader(\"uber_trips_2015.csv\")\n",
    "dfGC = d.dataLoader(\"green_trips.csv\")\n",
    "dfYC = d.dataLoader(\"yellow_trips.csv\")\n",
    "\n",
    "#Let's add symbols in case we want to merge and differentiate the registers by source\n",
    "dfU14['Symbol'] = 'U14'\n",
    "dfU15['Symbol'] = 'U15'\n",
    "dfGC['Symbol'] = 'GCT'\n",
    "dfYC['Symbol'] = 'YCT'\n"
   ]
  },
  {
   "cell_type": "code",
   "execution_count": 4,
   "metadata": {},
   "outputs": [],
   "source": [
    "#%%time\n",
    "#Load the dataframe with the MTA trips\n",
    "#dfMTA = d.dataLoader('mta_trips.csv')\n",
    "#dfMTA['Symbol'] = 'MTA'"
   ]
  },
  {
   "cell_type": "code",
   "execution_count": 225,
   "metadata": {},
   "outputs": [
    {
     "name": "stdout",
     "output_type": "stream",
     "text": [
      "CPU times: user 167 ms, sys: 71.9 ms, total: 239 ms\n",
      "Wall time: 297 ms\n"
     ]
    }
   ],
   "source": [
    "%%time\n",
    "#Loading the supplementary dataframes\n",
    "dfDemo = d.dataLoader(\"demographics.csv\")\n",
    "dfGeo = d.dataLoader('geographic.csv')\n",
    "dfZones = d.dataLoader('zones.csv')\n",
    "dfWeather=d.dataLoader('weather.csv')"
   ]
  },
  {
   "cell_type": "code",
   "execution_count": 6,
   "metadata": {},
   "outputs": [
    {
     "name": "stdout",
     "output_type": "stream",
     "text": [
      "--uber 2014--\n",
      "Min:4/1/14 0:00\n",
      "Max:9/9/2014 9:59:00\n",
      "--uber 2015--\n",
      "Min:2015-01-01 00:00:05\n",
      "Max:2015-06-30 23:59:00\n",
      "--GC--\n",
      "Min:2014-04-01 00:00:00\n",
      "Max:2015-06-30 23:59:57\n",
      "--YC--\n",
      "Min:2014-04-01 00:00:00\n",
      "Max:2015-06-30 23:59:59\n",
      "CPU times: user 9.75 s, sys: 271 ms, total: 10 s\n",
      "Wall time: 10.4 s\n"
     ]
    }
   ],
   "source": [
    "%%time\n",
    "#Let's check what are the date ranges. Focused on the car sources\n",
    "d.viewRange(\"--uber 2014--\",\"pickup_datetime\",dfU14)\n",
    "d.viewRange(\"--uber 2015--\",\"pickup_datetime\",dfU15)\n",
    "d.viewRange(\"--GC--\",\"pickup_datetime\",dfGC)\n",
    "d.viewRange(\"--YC--\",\"pickup_datetime\",dfYC)"
   ]
  },
  {
   "cell_type": "code",
   "execution_count": 7,
   "metadata": {},
   "outputs": [
    {
     "name": "stdout",
     "output_type": "stream",
     "text": [
      "CPU times: user 39.7 s, sys: 361 ms, total: 40.1 s\n",
      "Wall time: 41.8 s\n"
     ]
    }
   ],
   "source": [
    "%%time\n",
    "#IAM: fixing rogue dates in the Uber 2014 dataframe\n",
    "dfU14['pickup_datetime'] = pd.to_datetime(dfU14['pickup_datetime'], infer_datetime_format=True)"
   ]
  },
  {
   "cell_type": "code",
   "execution_count": 8,
   "metadata": {},
   "outputs": [
    {
     "name": "stdout",
     "output_type": "stream",
     "text": [
      "CPU times: user 23.8 s, sys: 719 ms, total: 24.5 s\n",
      "Wall time: 24 s\n"
     ]
    }
   ],
   "source": [
    "%%time\n",
    "#We create date and hour columns for the different Dataframes as a way to be able to group the data at a later stage\n",
    "dfU14['HOUR'] = pd.DatetimeIndex(dfU14['pickup_datetime']).hour\n",
    "dfU14['DATE'] = pd.DatetimeIndex(dfU14['pickup_datetime']).date\n",
    "\n",
    "dfU15['HOUR'] = pd.DatetimeIndex(dfU15['pickup_datetime']).hour\n",
    "dfU15['DATE'] = pd.DatetimeIndex(dfU15['pickup_datetime']).date\n",
    "\n",
    "dfGC['HOUR'] = pd.DatetimeIndex(dfGC['pickup_datetime']).hour\n",
    "dfGC['DATE'] = pd.DatetimeIndex(dfGC['pickup_datetime']).date\n",
    "\n",
    "dfYC['HOUR'] = pd.DatetimeIndex(dfYC['pickup_datetime']).hour\n",
    "dfYC['DATE'] = pd.DatetimeIndex(dfYC['pickup_datetime']).date"
   ]
  },
  {
   "cell_type": "code",
   "execution_count": 9,
   "metadata": {},
   "outputs": [
    {
     "name": "stdout",
     "output_type": "stream",
     "text": [
      "<class 'pandas.core.frame.DataFrame'>\n",
      "RangeIndex: 188 entries, 0 to 187\n",
      "Data columns (total 33 columns):\n",
      "nta_name            188 non-null object\n",
      "borough             188 non-null object\n",
      "nta_code            188 non-null object\n",
      "population          188 non-null int64\n",
      "under_5_years       188 non-null int64\n",
      "5-9_years           188 non-null int64\n",
      "10-14_years         188 non-null int64\n",
      "15-19_years         188 non-null int64\n",
      "20-24_years         188 non-null int64\n",
      "25-29_years         188 non-null int64\n",
      "30-34_years         188 non-null int64\n",
      "35-39_years         188 non-null int64\n",
      "40-44_years         188 non-null int64\n",
      "45-49_years         188 non-null int64\n",
      "50-54_years         188 non-null int64\n",
      "55-59_years         188 non-null int64\n",
      "60-64_years         188 non-null int64\n",
      "over_65_years       188 non-null int64\n",
      "median_age          188 non-null int64\n",
      "people_per_acre     188 non-null float64\n",
      "households          188 non-null int64\n",
      "less_than_10,000    188 non-null int64\n",
      "10000_to_14999      188 non-null int64\n",
      "15000_to_24999      188 non-null int64\n",
      "25000_to_34999      188 non-null int64\n",
      "35000_to_49999      188 non-null int64\n",
      "50000_to_74999      188 non-null int64\n",
      "75000_to_99999      188 non-null int64\n",
      "100000_to_149999    188 non-null int64\n",
      "150000_to_199999    188 non-null int64\n",
      "200000_or_more      188 non-null int64\n",
      "median_income       188 non-null int64\n",
      "mean_income         188 non-null int64\n",
      "dtypes: float64(1), int64(29), object(3)\n",
      "memory usage: 48.6+ KB\n",
      "None\n",
      "          population  under_5_years     5-9_years   10-14_years  15-19_years  \\\n",
      "count     188.000000      188.00000    188.000000    188.000000   188.000000   \n",
      "mean    43397.175532     2752.12766   2515.478723   2489.159574  2842.632979   \n",
      "std     21288.062949     1695.80947   1496.808314   1459.440306  1574.371410   \n",
      "min     13354.000000      506.00000    408.000000    326.000000   449.000000   \n",
      "25%     27237.000000     1490.50000   1443.500000   1437.750000  1619.000000   \n",
      "50%     37897.000000     2386.00000   2228.500000   2197.500000  2568.000000   \n",
      "75%     54244.750000     3579.25000   3242.750000   3263.750000  3717.250000   \n",
      "max    132378.000000    14703.00000  11971.000000  10024.000000  9094.000000   \n",
      "\n",
      "        20-24_years   25-29_years   30-34_years   35-39_years   40-44_years  \\\n",
      "count    188.000000    188.000000    188.000000    188.000000    188.000000   \n",
      "mean    3404.617021   3872.106383   3512.468085   3116.265957   3007.898936   \n",
      "std     1886.482082   2462.683806   2113.358863   1704.685137   1531.520696   \n",
      "min      798.000000    736.000000    742.000000    689.000000    743.000000   \n",
      "25%     1929.500000   2089.250000   1928.000000   1835.750000   1867.500000   \n",
      "50%     2956.000000   3081.500000   2893.000000   2555.500000   2520.000000   \n",
      "75%     4527.000000   5252.750000   4611.000000   4034.500000   3778.500000   \n",
      "max    10046.000000  11971.000000  11292.000000  10406.000000  10004.000000   \n",
      "\n",
      "       ...  15000_to_24999  25000_to_34999  35000_to_49999  50000_to_74999  \\\n",
      "count  ...      188.000000      188.000000      188.000000      188.000000   \n",
      "mean   ...     1750.861702     1487.734043     1909.824468     2544.452128   \n",
      "std    ...     1065.437156      893.651778     1076.642531     1415.221055   \n",
      "min    ...      191.000000      371.000000      496.000000      782.000000   \n",
      "25%    ...      930.000000      827.750000     1139.500000     1504.750000   \n",
      "50%    ...     1504.500000     1209.000000     1629.000000     2134.000000   \n",
      "75%    ...     2235.250000     2066.500000     2494.250000     3117.500000   \n",
      "max    ...     5231.000000     4549.000000     5901.000000     7655.000000   \n",
      "\n",
      "       75000_to_99999  100000_to_149999  150000_to_199999  200000_or_more  \\\n",
      "count      188.000000        188.000000        188.000000      188.000000   \n",
      "mean      1803.074468       2078.186170        939.824468     1224.664894   \n",
      "std       1041.592900       1430.129096        890.562915     2315.006940   \n",
      "min        241.000000        201.000000         20.000000        8.000000   \n",
      "25%       1111.000000       1220.250000        426.500000      248.750000   \n",
      "50%       1580.000000       1819.500000        760.000000      517.500000   \n",
      "75%       2328.500000       2462.500000       1068.750000      963.000000   \n",
      "max       6109.000000       9962.000000       6359.000000    15031.000000   \n",
      "\n",
      "       median_income    mean_income  \n",
      "count     188.000000     188.000000  \n",
      "mean    57002.489362   77808.877660  \n",
      "std     24341.286390   38791.512605  \n",
      "min     20334.000000   29720.000000  \n",
      "25%     39015.000000   54656.750000  \n",
      "50%     53114.500000   70396.000000  \n",
      "75%     71430.750000   89989.500000  \n",
      "max    155213.000000  311109.000000  \n",
      "\n",
      "[8 rows x 30 columns]\n",
      "null values demographics: \n",
      " \n",
      "nta_name            0\n",
      "borough             0\n",
      "nta_code            0\n",
      "population          0\n",
      "under_5_years       0\n",
      "5-9_years           0\n",
      "10-14_years         0\n",
      "15-19_years         0\n",
      "20-24_years         0\n",
      "25-29_years         0\n",
      "30-34_years         0\n",
      "35-39_years         0\n",
      "40-44_years         0\n",
      "45-49_years         0\n",
      "50-54_years         0\n",
      "55-59_years         0\n",
      "60-64_years         0\n",
      "over_65_years       0\n",
      "median_age          0\n",
      "people_per_acre     0\n",
      "households          0\n",
      "less_than_10,000    0\n",
      "10000_to_14999      0\n",
      "15000_to_24999      0\n",
      "25000_to_34999      0\n",
      "35000_to_49999      0\n",
      "50000_to_74999      0\n",
      "75000_to_99999      0\n",
      "100000_to_149999    0\n",
      "150000_to_199999    0\n",
      "200000_or_more      0\n",
      "median_income       0\n",
      "mean_income         0\n",
      "dtype: int64\n",
      "CPU times: user 115 ms, sys: 6.82 ms, total: 122 ms\n",
      "Wall time: 130 ms\n"
     ]
    }
   ],
   "source": [
    "%%time\n",
    "#Now the different data structures are visualized to see what datatypes are used in order to compare apples with apples\n",
    "print(dfDemo.info())\n",
    "print(dfDemo.describe())\n",
    "print(\"null values demographics: \\n \")\n",
    "print(dfDemo.isna().sum())"
   ]
  },
  {
   "cell_type": "markdown",
   "metadata": {},
   "source": [
    "## Visualization"
   ]
  },
  {
   "cell_type": "markdown",
   "metadata": {},
   "source": [
    "**Demographics**"
   ]
  },
  {
   "cell_type": "code",
   "execution_count": 10,
   "metadata": {},
   "outputs": [],
   "source": [
    "#%%time\n",
    "#Visualize different aspects from the Demographics data\n",
    "\n",
    "#sns.boxplot(x=dfDemo['population'], color='lime')\n",
    "#plt.xlabel('Population', fontsize=14)\n",
    "#plt.show()"
   ]
  },
  {
   "cell_type": "code",
   "execution_count": 11,
   "metadata": {},
   "outputs": [],
   "source": [
    "#%%time\n",
    "#sns.boxplot(x=dfDemo['median_age'], color='lime')\n",
    "#plt.xlabel('median_age', fontsize=14)\n",
    "#plt.show()"
   ]
  },
  {
   "cell_type": "code",
   "execution_count": 12,
   "metadata": {},
   "outputs": [],
   "source": [
    "#%%time\n",
    "#sns.boxplot(x=dfDemo['people_per_acre'], color='lime')\n",
    "#plt.xlabel('people_per_acre', fontsize=14)\n",
    "#plt.show()"
   ]
  },
  {
   "cell_type": "code",
   "execution_count": 13,
   "metadata": {},
   "outputs": [],
   "source": [
    "#%%time\n",
    "#sns.boxplot(x=dfDemo['households'], color='lime')\n",
    "#plt.xlabel('households', fontsize=14)\n",
    "#plt.show()"
   ]
  },
  {
   "cell_type": "code",
   "execution_count": 14,
   "metadata": {},
   "outputs": [],
   "source": [
    "#%%time\n",
    "#sns.boxplot(x=dfDemo['median_income'], color='lime')\n",
    "#plt.xlabel('median_income', fontsize=14)\n",
    "#plt.show()"
   ]
  },
  {
   "cell_type": "code",
   "execution_count": 15,
   "metadata": {},
   "outputs": [],
   "source": [
    "#%%time\n",
    "#sns.boxplot(x=dfDemo['mean_income'], color='lime')\n",
    "#plt.xlabel('mean_income', fontsize=14)\n",
    "#plt.show()"
   ]
  },
  {
   "cell_type": "code",
   "execution_count": 16,
   "metadata": {},
   "outputs": [
    {
     "name": "stdout",
     "output_type": "stream",
     "text": [
      "CPU times: user 3.08 s, sys: 32.2 ms, total: 3.11 s\n",
      "Wall time: 3.15 s\n"
     ]
    },
    {
     "data": {
      "image/png": "[encoded data removed]",
      "text/plain": [
       "<Figure size 1080x1080 with 42 Axes>"
      ]
     },
     "metadata": {
      "needs_background": "light"
     },
     "output_type": "display_data"
    }
   ],
   "source": [
    "%%time\n",
    "df_demographics_plot=dfDemo[['population','median_age','people_per_acre','households',\n",
    "                                                    'median_income','mean_income']]\n",
    "x=sns.PairGrid(df_demographics_plot)\n",
    "x=x.map_diag(plt.hist)\n",
    "x=x.map_offdiag(plt.scatter)"
   ]
  },
  {
   "cell_type": "markdown",
   "metadata": {},
   "source": [
    "**Green cab trips**"
   ]
  },
  {
   "cell_type": "code",
   "execution_count": 17,
   "metadata": {},
   "outputs": [
    {
     "name": "stdout",
     "output_type": "stream",
     "text": [
      "<class 'pandas.core.frame.DataFrame'>\n",
      "RangeIndex: 3589048 entries, 0 to 3589047\n",
      "Data columns (total 12 columns):\n",
      "pickup_datetime      object\n",
      "dropoff_datetime     object\n",
      "pickup_longitude     float64\n",
      "pickup_latitude      float64\n",
      "dropoff_longitude    float64\n",
      "dropoff_latitude     float64\n",
      "passenger_count      int64\n",
      "trip_distance        float64\n",
      "total_amount         float64\n",
      "Symbol               object\n",
      "TIME                 int64\n",
      "DATE                 object\n",
      "dtypes: float64(6), int64(2), object(4)\n",
      "memory usage: 328.6+ MB\n",
      "None\n"
     ]
    }
   ],
   "source": [
    "print(dfGC.info())"
   ]
  },
  {
   "cell_type": "code",
   "execution_count": 18,
   "metadata": {},
   "outputs": [
    {
     "name": "stdout",
     "output_type": "stream",
     "text": [
      "       pickup_longitude  pickup_latitude  dropoff_longitude  dropoff_latitude  \\\n",
      "count      3.589048e+06     3.589048e+06       3.589048e+06      3.589048e+06   \n",
      "mean      -7.381415e+01     4.068699e+01      -7.382658e+01      4.069179e+01   \n",
      "std        2.976375e+00     1.641374e+00       2.812674e+00      1.550998e+00   \n",
      "min       -1.223996e+02     0.000000e+00      -1.223996e+02      0.000000e+00   \n",
      "25%       -7.395853e+01     4.070282e+01      -7.396718e+01      4.070625e+01   \n",
      "50%       -7.394424e+01     4.074771e+01      -7.394400e+01      4.075044e+01   \n",
      "75%       -7.391512e+01     4.080492e+01      -7.390833e+01      4.079577e+01   \n",
      "max        0.000000e+00     4.278692e+01       0.000000e+00      4.316054e+01   \n",
      "\n",
      "       passenger_count  trip_distance  total_amount          TIME  \n",
      "count     3.589048e+06   3.589048e+06  3.589048e+06  3.589048e+06  \n",
      "mean      1.404419e+00   2.949620e+00  1.478221e+01  1.359364e+01  \n",
      "std       1.094672e+00   2.980152e+00  2.977614e+01  6.846637e+00  \n",
      "min       0.000000e+00   0.000000e+00 -3.500000e+02  0.000000e+00  \n",
      "25%       1.000000e+00   1.100000e+00  7.800000e+00  9.000000e+00  \n",
      "50%       1.000000e+00   1.990000e+00  1.130000e+01  1.500000e+01  \n",
      "75%       1.000000e+00   3.780000e+00  1.800000e+01  1.900000e+01  \n",
      "max       9.000000e+00   4.395300e+02  5.119200e+04  2.300000e+01  \n"
     ]
    }
   ],
   "source": [
    "print(dfGC.describe())"
   ]
  },
  {
   "cell_type": "code",
   "execution_count": 19,
   "metadata": {},
   "outputs": [
    {
     "name": "stdout",
     "output_type": "stream",
     "text": [
      "null values in green cab trips: \n",
      " \n",
      "pickup_datetime      0\n",
      "dropoff_datetime     0\n",
      "pickup_longitude     0\n",
      "pickup_latitude      0\n",
      "dropoff_longitude    0\n",
      "dropoff_latitude     0\n",
      "passenger_count      0\n",
      "trip_distance        0\n",
      "total_amount         0\n",
      "Symbol               0\n",
      "TIME                 0\n",
      "DATE                 0\n",
      "dtype: int64\n"
     ]
    }
   ],
   "source": [
    "print(\"null values in green cab trips: \\n \")\n",
    "print(dfGC.isna().sum())"
   ]
  },
  {
   "cell_type": "code",
   "execution_count": 20,
   "metadata": {},
   "outputs": [],
   "source": [
    "#%%time\n",
    "#sns.stripplot(x=dfGC['pickup_longitude'], color='black')\n",
    "#plt.xlabel('pickup_longitude', fontsize=14)\n",
    "#plt.show()"
   ]
  },
  {
   "cell_type": "code",
   "execution_count": 21,
   "metadata": {},
   "outputs": [],
   "source": [
    "#%%time\n",
    "#sns.stripplot(x=dfGC['pickup_latitude'], color='black')\n",
    "#plt.xlabel('pickup_latitude', fontsize=14)\n",
    "#plt.show()"
   ]
  },
  {
   "cell_type": "code",
   "execution_count": 22,
   "metadata": {},
   "outputs": [],
   "source": [
    "#%%time\n",
    "#sns.stripplot(x=dfGC['dropoff_longitude'], color='black')\n",
    "#plt.xlabel('dropoff_longitude', fontsize=14)\n",
    "#plt.show()"
   ]
  },
  {
   "cell_type": "code",
   "execution_count": 23,
   "metadata": {},
   "outputs": [],
   "source": [
    "#%%time\n",
    "#sns.stripplot(x=dfGC['dropoff_latitude'], color='black')\n",
    "#plt.xlabel('dropoff_latitude', fontsize=14)\n",
    "#plt.show()"
   ]
  },
  {
   "cell_type": "code",
   "execution_count": 24,
   "metadata": {},
   "outputs": [],
   "source": [
    "#%%time\n",
    "#sns.stripplot(x=dfGC['passenger_count'], color='black')\n",
    "#plt.xlabel('passenger_count', fontsize=14)\n",
    "#plt.show()"
   ]
  },
  {
   "cell_type": "code",
   "execution_count": 25,
   "metadata": {},
   "outputs": [],
   "source": [
    "#%%time\n",
    "#sns.stripplot(x=dfGC['trip_distance'], color='black')\n",
    "#plt.xlabel('trip_distance', fontsize=14)\n",
    "#plt.show()"
   ]
  },
  {
   "cell_type": "code",
   "execution_count": 26,
   "metadata": {},
   "outputs": [],
   "source": [
    "#%%time\n",
    "#sns.stripplot(x=dfGC['total_amount'], color='black')\n",
    "#plt.xlabel('total_amount', fontsize=14)\n",
    "#plt.show()"
   ]
  },
  {
   "cell_type": "markdown",
   "metadata": {},
   "source": [
    "**Yellow cab trips**"
   ]
  },
  {
   "cell_type": "code",
   "execution_count": 27,
   "metadata": {},
   "outputs": [
    {
     "name": "stdout",
     "output_type": "stream",
     "text": [
      "<class 'pandas.core.frame.DataFrame'>\n",
      "RangeIndex: 7974059 entries, 0 to 7974058\n",
      "Data columns (total 12 columns):\n",
      "pickup_datetime      object\n",
      "dropoff_datetime     object\n",
      "pickup_longitude     float64\n",
      "pickup_latitude      float64\n",
      "dropoff_longitude    float64\n",
      "dropoff_latitude     float64\n",
      "passenger_count      int64\n",
      "trip_distance        float64\n",
      "total_amount         float64\n",
      "Symbol               object\n",
      "TIME                 int64\n",
      "DATE                 object\n",
      "dtypes: float64(6), int64(2), object(4)\n",
      "memory usage: 730.0+ MB\n",
      "None\n"
     ]
    }
   ],
   "source": [
    "print(dfYC.info())"
   ]
  },
  {
   "cell_type": "code",
   "execution_count": 28,
   "metadata": {},
   "outputs": [
    {
     "name": "stdout",
     "output_type": "stream",
     "text": [
      "       pickup_longitude  pickup_latitude  dropoff_longitude  dropoff_latitude  \\\n",
      "count      7.974059e+06     7.974059e+06       7.974059e+06      7.974059e+06   \n",
      "mean      -7.244694e+01     3.990894e+01      -7.246507e+01      3.991985e+01   \n",
      "std        1.052101e+01     5.796364e+00       1.046042e+01      5.763262e+00   \n",
      "min       -1.800000e+02    -1.800000e+02      -7.364167e+02     -1.800000e+02   \n",
      "25%       -7.399203e+01     4.073474e+01      -7.399137e+01      4.073344e+01   \n",
      "50%       -7.398172e+01     4.075247e+01      -7.397979e+01      4.075291e+01   \n",
      "75%       -7.396661e+01     4.076706e+01      -7.396233e+01      4.076824e+01   \n",
      "max        1.720110e+02     6.220818e+01       1.720110e+02      4.043000e+02   \n",
      "\n",
      "       passenger_count  trip_distance  total_amount          TIME  \n",
      "count     7.974059e+06   7.974059e+06  7.974059e+06  7.974059e+06  \n",
      "mean      1.688382e+00   1.659788e+01  1.560997e+01  1.352616e+01  \n",
      "std       1.346068e+00   1.063671e+04  1.347520e+01  6.518469e+00  \n",
      "min       0.000000e+00   0.000000e+00 -2.188000e+02  0.000000e+00  \n",
      "25%       1.000000e+00   1.030000e+00  8.300000e+00  9.000000e+00  \n",
      "50%       1.000000e+00   1.770000e+00  1.175000e+01  1.400000e+01  \n",
      "75%       2.000000e+00   3.220000e+00  1.740000e+01  1.900000e+01  \n",
      "max       9.000000e+00   1.180001e+07  6.770300e+03  2.300000e+01  \n"
     ]
    }
   ],
   "source": [
    "print(dfYC.describe())"
   ]
  },
  {
   "cell_type": "code",
   "execution_count": 29,
   "metadata": {},
   "outputs": [
    {
     "name": "stdout",
     "output_type": "stream",
     "text": [
      "null values in yellow cab trips: \n",
      " \n",
      "pickup_datetime      0\n",
      "dropoff_datetime     0\n",
      "pickup_longitude     0\n",
      "pickup_latitude      0\n",
      "dropoff_longitude    0\n",
      "dropoff_latitude     0\n",
      "passenger_count      0\n",
      "trip_distance        0\n",
      "total_amount         0\n",
      "Symbol               0\n",
      "TIME                 0\n",
      "DATE                 0\n",
      "dtype: int64\n"
     ]
    }
   ],
   "source": [
    "print(\"null values in yellow cab trips: \\n \")\n",
    "print(dfYC.isna().sum())"
   ]
  },
  {
   "cell_type": "code",
   "execution_count": 30,
   "metadata": {},
   "outputs": [],
   "source": [
    "#%%time\n",
    "#sns.stripplot(x=dfYC['pickup_longitude'], color='black')\n",
    "#plt.xlabel('pickup_longitude', fontsize=14)\n",
    "#plt.show()"
   ]
  },
  {
   "cell_type": "code",
   "execution_count": 31,
   "metadata": {},
   "outputs": [],
   "source": [
    "#%%time\n",
    "#sns.stripplot(x=dfYC['pickup_latitude'], color='black')\n",
    "#plt.xlabel('pickup_latitude', fontsize=14)\n",
    "#plt.show()"
   ]
  },
  {
   "cell_type": "code",
   "execution_count": 32,
   "metadata": {},
   "outputs": [],
   "source": [
    "#%%time\n",
    "#sns.stripplot(x=dfYC['dropoff_longitude'], color='black')\n",
    "#plt.xlabel('dropoff_longitude', fontsize=14)\n",
    "#plt.show()"
   ]
  },
  {
   "cell_type": "code",
   "execution_count": 33,
   "metadata": {},
   "outputs": [],
   "source": [
    "#%%time\n",
    "#sns.stripplot(x=dfYC['dropoff_latitude'], color='black')\n",
    "#plt.xlabel('dropoff_latitude', fontsize=14)\n",
    "#plt.show()"
   ]
  },
  {
   "cell_type": "code",
   "execution_count": 34,
   "metadata": {},
   "outputs": [],
   "source": [
    "#%%time\n",
    "#sns.stripplot(x=dfYC['passenger_count'], color='black')\n",
    "#plt.xlabel('passenger_count', fontsize=14)\n",
    "#plt.show()"
   ]
  },
  {
   "cell_type": "code",
   "execution_count": 35,
   "metadata": {},
   "outputs": [],
   "source": [
    "#%%time\n",
    "#sns.stripplot(x=dfYC['trip_distance'], color='black')\n",
    "#plt.xlabel('trip_distance', fontsize=14)\n",
    "#plt.show()"
   ]
  },
  {
   "cell_type": "code",
   "execution_count": 36,
   "metadata": {},
   "outputs": [],
   "source": [
    "#%%time\n",
    "#sns.stripplot(x=dfYC['total_amount'], color='black')\n",
    "#plt.xlabel('total_amount', fontsize=14)\n",
    "#plt.show()"
   ]
  },
  {
   "cell_type": "markdown",
   "metadata": {},
   "source": [
    "**Uber 2014 trips**"
   ]
  },
  {
   "cell_type": "code",
   "execution_count": 37,
   "metadata": {},
   "outputs": [
    {
     "name": "stdout",
     "output_type": "stream",
     "text": [
      "<class 'pandas.core.frame.DataFrame'>\n",
      "RangeIndex: 4534327 entries, 0 to 4534326\n",
      "Data columns (total 7 columns):\n",
      "pickup_datetime     datetime64[ns]\n",
      "pickup_latitude     float64\n",
      "pickup_longitude    float64\n",
      "base                object\n",
      "Symbol              object\n",
      "TIME                int64\n",
      "DATE                object\n",
      "dtypes: datetime64[ns](1), float64(2), int64(1), object(3)\n",
      "memory usage: 242.2+ MB\n",
      "None\n"
     ]
    }
   ],
   "source": [
    "print(dfU14.info())"
   ]
  },
  {
   "cell_type": "code",
   "execution_count": 38,
   "metadata": {},
   "outputs": [
    {
     "name": "stdout",
     "output_type": "stream",
     "text": [
      "       pickup_latitude  pickup_longitude          TIME\n",
      "count     4.534327e+06      4.534327e+06  4.534327e+06\n",
      "mean      4.073926e+01     -7.397302e+01  1.421831e+01\n",
      "std       3.994991e-02      5.726670e-02  5.958759e+00\n",
      "min       3.965690e+01     -7.492900e+01  0.000000e+00\n",
      "25%       4.072110e+01     -7.399650e+01  1.000000e+01\n",
      "50%       4.074220e+01     -7.398340e+01  1.500000e+01\n",
      "75%       4.076100e+01     -7.396530e+01  1.900000e+01\n",
      "max       4.211660e+01     -7.206660e+01  2.300000e+01\n"
     ]
    }
   ],
   "source": [
    "print(dfU14.describe())"
   ]
  },
  {
   "cell_type": "code",
   "execution_count": 39,
   "metadata": {},
   "outputs": [
    {
     "name": "stdout",
     "output_type": "stream",
     "text": [
      "null values in uber trips - 2014: \n",
      " \n",
      "pickup_datetime     0\n",
      "pickup_latitude     0\n",
      "pickup_longitude    0\n",
      "base                0\n",
      "Symbol              0\n",
      "TIME                0\n",
      "DATE                0\n",
      "dtype: int64\n"
     ]
    }
   ],
   "source": [
    "print(\"null values in uber trips - 2014: \\n \")\n",
    "print(dfU14.isna().sum())"
   ]
  },
  {
   "cell_type": "code",
   "execution_count": 40,
   "metadata": {},
   "outputs": [],
   "source": [
    "#%%time\n",
    "#sns.stripplot(x=dfU14['pickup_latitude'], color='black')\n",
    "#plt.xlabel('pickup_latitude', fontsize=14)\n",
    "#plt.show()"
   ]
  },
  {
   "cell_type": "code",
   "execution_count": 41,
   "metadata": {},
   "outputs": [],
   "source": [
    "#%%time\n",
    "#sns.stripplot(x=dfU14['pickup_longitude'], color='black')\n",
    "#plt.xlabel('pickup_longitude', fontsize=14)\n",
    "#plt.show()"
   ]
  },
  {
   "cell_type": "markdown",
   "metadata": {},
   "source": [
    "**Uber 2015 trips**"
   ]
  },
  {
   "cell_type": "code",
   "execution_count": 42,
   "metadata": {},
   "outputs": [
    {
     "name": "stdout",
     "output_type": "stream",
     "text": [
      "<class 'pandas.core.frame.DataFrame'>\n",
      "RangeIndex: 14270479 entries, 0 to 14270478\n",
      "Data columns (total 7 columns):\n",
      "pickup_datetime       object\n",
      "pickup_location_id    int64\n",
      "dispatch_base         object\n",
      "affiliate_base        object\n",
      "Symbol                object\n",
      "TIME                  int64\n",
      "DATE                  object\n",
      "dtypes: int64(2), object(5)\n",
      "memory usage: 762.1+ MB\n",
      "None\n"
     ]
    }
   ],
   "source": [
    "print(dfU15.info())"
   ]
  },
  {
   "cell_type": "code",
   "execution_count": 43,
   "metadata": {},
   "outputs": [
    {
     "name": "stdout",
     "output_type": "stream",
     "text": [
      "       pickup_location_id          TIME\n",
      "count        1.427048e+07  1.427048e+07\n",
      "mean         1.520574e+02  1.409316e+01\n",
      "std          7.159620e+01  6.623962e+00\n",
      "min          1.000000e+00  0.000000e+00\n",
      "25%          9.200000e+01  9.000000e+00\n",
      "50%          1.570000e+02  1.600000e+01\n",
      "75%          2.300000e+02  2.000000e+01\n",
      "max          2.650000e+02  2.300000e+01\n"
     ]
    }
   ],
   "source": [
    "print(dfU15.describe())"
   ]
  },
  {
   "cell_type": "code",
   "execution_count": 44,
   "metadata": {},
   "outputs": [
    {
     "name": "stdout",
     "output_type": "stream",
     "text": [
      "null values in uber trips - 2015: \n",
      " \n",
      "pickup_datetime            0\n",
      "pickup_location_id         0\n",
      "dispatch_base              0\n",
      "affiliate_base        162195\n",
      "Symbol                     0\n",
      "TIME                       0\n",
      "DATE                       0\n",
      "dtype: int64\n"
     ]
    }
   ],
   "source": [
    "print(\"null values in uber trips - 2015: \\n \")\n",
    "print(dfU15.isna().sum())"
   ]
  },
  {
   "cell_type": "code",
   "execution_count": 45,
   "metadata": {},
   "outputs": [],
   "source": [
    "#%%time\n",
    "#sns.stripplot(x=dfU15['pickup_location_id'], color='black')\n",
    "#plt.xlabel('pickup_location_id', fontsize=14)\n",
    "#plt.show()"
   ]
  },
  {
   "cell_type": "markdown",
   "metadata": {},
   "source": [
    "#### Transform dataframes into geopandas"
   ]
  },
  {
   "cell_type": "code",
   "execution_count": 46,
   "metadata": {
    "scrolled": true
   },
   "outputs": [
    {
     "data": {
      "text/html": [
       "<div>\n",
       "<style scoped>\n",
       "    .dataframe tbody tr th:only-of-type {\n",
       "        vertical-align: middle;\n",
       "    }\n",
       "\n",
       "    .dataframe tbody tr th {\n",
       "        vertical-align: top;\n",
       "    }\n",
       "\n",
       "    .dataframe thead th {\n",
       "        text-align: right;\n",
       "    }\n",
       "</style>\n",
       "<table border=\"1\" class=\"dataframe\">\n",
       "  <thead>\n",
       "    <tr style=\"text-align: right;\">\n",
       "      <th></th>\n",
       "      <th>BK88</th>\n",
       "      <th>QN52</th>\n",
       "      <th>QN48</th>\n",
       "      <th>QN51</th>\n",
       "      <th>QN27</th>\n",
       "      <th>BX35</th>\n",
       "      <th>BX98</th>\n",
       "      <th>QN07</th>\n",
       "      <th>MN06</th>\n",
       "      <th>QN02</th>\n",
       "      <th>...</th>\n",
       "      <th>MN25</th>\n",
       "      <th>MN24</th>\n",
       "      <th>MN23</th>\n",
       "      <th>MN13</th>\n",
       "      <th>MN15</th>\n",
       "      <th>MN32</th>\n",
       "      <th>MN33</th>\n",
       "      <th>MN99</th>\n",
       "      <th>QN18</th>\n",
       "      <th>QN29</th>\n",
       "    </tr>\n",
       "  </thead>\n",
       "  <tbody>\n",
       "    <tr>\n",
       "      <td>0</td>\n",
       "      <td>-73.976051</td>\n",
       "      <td>-73.794934</td>\n",
       "      <td>-73.775740</td>\n",
       "      <td>-73.803792</td>\n",
       "      <td>-73.861099</td>\n",
       "      <td>-73.896967</td>\n",
       "      <td>-73.872873</td>\n",
       "      <td>-73.757258</td>\n",
       "      <td>-73.946080</td>\n",
       "      <td>-73.760316</td>\n",
       "      <td>...</td>\n",
       "      <td>-74.000784</td>\n",
       "      <td>-73.992605</td>\n",
       "      <td>-73.989904</td>\n",
       "      <td>-74.001535</td>\n",
       "      <td>-73.993833</td>\n",
       "      <td>-73.938048</td>\n",
       "      <td>-73.935054</td>\n",
       "      <td>-74.010930</td>\n",
       "      <td>-73.858726</td>\n",
       "      <td>-73.867911</td>\n",
       "    </tr>\n",
       "    <tr>\n",
       "      <td>1</td>\n",
       "      <td>40.631284</td>\n",
       "      <td>40.757806</td>\n",
       "      <td>40.743334</td>\n",
       "      <td>40.775618</td>\n",
       "      <td>40.763673</td>\n",
       "      <td>40.834350</td>\n",
       "      <td>40.785983</td>\n",
       "      <td>40.718147</td>\n",
       "      <td>40.821271</td>\n",
       "      <td>40.675118</td>\n",
       "      <td>...</td>\n",
       "      <td>40.694295</td>\n",
       "      <td>40.724145</td>\n",
       "      <td>40.734443</td>\n",
       "      <td>40.762653</td>\n",
       "      <td>40.772940</td>\n",
       "      <td>40.780838</td>\n",
       "      <td>40.791695</td>\n",
       "      <td>40.684500</td>\n",
       "      <td>40.735717</td>\n",
       "      <td>40.744942</td>\n",
       "    </tr>\n",
       "    <tr>\n",
       "      <td>2</td>\n",
       "      <td>-73.977167</td>\n",
       "      <td>-73.794749</td>\n",
       "      <td>-73.775799</td>\n",
       "      <td>-73.800991</td>\n",
       "      <td>-73.859931</td>\n",
       "      <td>-73.896787</td>\n",
       "      <td>-73.872886</td>\n",
       "      <td>-73.755890</td>\n",
       "      <td>-73.946404</td>\n",
       "      <td>-73.758806</td>\n",
       "      <td>...</td>\n",
       "      <td>-74.000960</td>\n",
       "      <td>-73.992634</td>\n",
       "      <td>-73.989870</td>\n",
       "      <td>-74.001339</td>\n",
       "      <td>-73.993789</td>\n",
       "      <td>-73.937903</td>\n",
       "      <td>-73.935108</td>\n",
       "      <td>-74.011934</td>\n",
       "      <td>-73.858672</td>\n",
       "      <td>-73.867877</td>\n",
       "    </tr>\n",
       "    <tr>\n",
       "      <td>3</td>\n",
       "      <td>40.630755</td>\n",
       "      <td>40.755636</td>\n",
       "      <td>40.743326</td>\n",
       "      <td>40.775397</td>\n",
       "      <td>40.762209</td>\n",
       "      <td>40.834133</td>\n",
       "      <td>40.785971</td>\n",
       "      <td>40.716307</td>\n",
       "      <td>40.820580</td>\n",
       "      <td>40.673014</td>\n",
       "      <td>...</td>\n",
       "      <td>40.694077</td>\n",
       "      <td>40.724065</td>\n",
       "      <td>40.733535</td>\n",
       "      <td>40.762217</td>\n",
       "      <td>40.772912</td>\n",
       "      <td>40.780758</td>\n",
       "      <td>40.791658</td>\n",
       "      <td>40.683896</td>\n",
       "      <td>40.735627</td>\n",
       "      <td>40.744824</td>\n",
       "    </tr>\n",
       "    <tr>\n",
       "      <td>4</td>\n",
       "      <td>-73.977000</td>\n",
       "      <td>-73.794579</td>\n",
       "      <td>-73.778060</td>\n",
       "      <td>-73.798653</td>\n",
       "      <td>-73.859668</td>\n",
       "      <td>-73.896303</td>\n",
       "      <td>-73.872983</td>\n",
       "      <td>-73.754702</td>\n",
       "      <td>-73.946720</td>\n",
       "      <td>-73.758598</td>\n",
       "      <td>...</td>\n",
       "      <td>-74.003015</td>\n",
       "      <td>-73.993093</td>\n",
       "      <td>-73.990028</td>\n",
       "      <td>-74.001279</td>\n",
       "      <td>-73.993727</td>\n",
       "      <td>-73.937796</td>\n",
       "      <td>-73.935173</td>\n",
       "      <td>-74.012177</td>\n",
       "      <td>-73.858585</td>\n",
       "      <td>-73.867852</td>\n",
       "    </tr>\n",
       "  </tbody>\n",
       "</table>\n",
       "<p>5 rows × 195 columns</p>\n",
       "</div>"
      ],
      "text/plain": [
       "        BK88       QN52       QN48       QN51       QN27       BX35  \\\n",
       "0 -73.976051 -73.794934 -73.775740 -73.803792 -73.861099 -73.896967   \n",
       "1  40.631284  40.757806  40.743334  40.775618  40.763673  40.834350   \n",
       "2 -73.977167 -73.794749 -73.775799 -73.800991 -73.859931 -73.896787   \n",
       "3  40.630755  40.755636  40.743326  40.775397  40.762209  40.834133   \n",
       "4 -73.977000 -73.794579 -73.778060 -73.798653 -73.859668 -73.896303   \n",
       "\n",
       "        BX98       QN07       MN06       QN02  ...       MN25       MN24  \\\n",
       "0 -73.872873 -73.757258 -73.946080 -73.760316  ... -74.000784 -73.992605   \n",
       "1  40.785983  40.718147  40.821271  40.675118  ...  40.694295  40.724145   \n",
       "2 -73.872886 -73.755890 -73.946404 -73.758806  ... -74.000960 -73.992634   \n",
       "3  40.785971  40.716307  40.820580  40.673014  ...  40.694077  40.724065   \n",
       "4 -73.872983 -73.754702 -73.946720 -73.758598  ... -74.003015 -73.993093   \n",
       "\n",
       "        MN23       MN13       MN15       MN32       MN33       MN99  \\\n",
       "0 -73.989904 -74.001535 -73.993833 -73.938048 -73.935054 -74.010930   \n",
       "1  40.734443  40.762653  40.772940  40.780838  40.791695  40.684500   \n",
       "2 -73.989870 -74.001339 -73.993789 -73.937903 -73.935108 -74.011934   \n",
       "3  40.733535  40.762217  40.772912  40.780758  40.791658  40.683896   \n",
       "4 -73.990028 -74.001279 -73.993727 -73.937796 -73.935173 -74.012177   \n",
       "\n",
       "        QN18       QN29  \n",
       "0 -73.858726 -73.867911  \n",
       "1  40.735717  40.744942  \n",
       "2 -73.858672 -73.867877  \n",
       "3  40.735627  40.744824  \n",
       "4 -73.858585 -73.867852  \n",
       "\n",
       "[5 rows x 195 columns]"
      ]
     },
     "execution_count": 46,
     "metadata": {},
     "output_type": "execute_result"
    }
   ],
   "source": [
    "dfGeo.head()"
   ]
  },
  {
   "cell_type": "code",
   "execution_count": 47,
   "metadata": {
    "scrolled": true
   },
   "outputs": [
    {
     "name": "stdout",
     "output_type": "stream",
     "text": [
      "CPU times: user 2.91 s, sys: 95.4 ms, total: 3 s\n",
      "Wall time: 3.94 s\n"
     ]
    },
    {
     "data": {
      "text/html": [
       "<div>\n",
       "<style scoped>\n",
       "    .dataframe tbody tr th:only-of-type {\n",
       "        vertical-align: middle;\n",
       "    }\n",
       "\n",
       "    .dataframe tbody tr th {\n",
       "        vertical-align: top;\n",
       "    }\n",
       "\n",
       "    .dataframe thead th {\n",
       "        text-align: right;\n",
       "    }\n",
       "</style>\n",
       "<table border=\"1\" class=\"dataframe\">\n",
       "  <thead>\n",
       "    <tr style=\"text-align: right;\">\n",
       "      <th></th>\n",
       "      <th>location_id</th>\n",
       "      <th>polygon</th>\n",
       "    </tr>\n",
       "  </thead>\n",
       "  <tbody>\n",
       "    <tr>\n",
       "      <td>0</td>\n",
       "      <td>BK88</td>\n",
       "      <td>POLYGON ((-73.9760507905698 40.6312841471042, ...</td>\n",
       "    </tr>\n",
       "    <tr>\n",
       "      <td>1</td>\n",
       "      <td>QN52</td>\n",
       "      <td>POLYGON ((-73.79493384594591 40.7578063026709,...</td>\n",
       "    </tr>\n",
       "    <tr>\n",
       "      <td>2</td>\n",
       "      <td>QN48</td>\n",
       "      <td>POLYGON ((-73.7757397458527 40.7433339175923, ...</td>\n",
       "    </tr>\n",
       "    <tr>\n",
       "      <td>3</td>\n",
       "      <td>QN51</td>\n",
       "      <td>POLYGON ((-73.8037916164017 40.7756183875692, ...</td>\n",
       "    </tr>\n",
       "    <tr>\n",
       "      <td>4</td>\n",
       "      <td>QN27</td>\n",
       "      <td>POLYGON ((-73.86109864852619 40.7636727485249,...</td>\n",
       "    </tr>\n",
       "  </tbody>\n",
       "</table>\n",
       "</div>"
      ],
      "text/plain": [
       "  location_id                                            polygon\n",
       "0        BK88  POLYGON ((-73.9760507905698 40.6312841471042, ...\n",
       "1        QN52  POLYGON ((-73.79493384594591 40.7578063026709,...\n",
       "2        QN48  POLYGON ((-73.7757397458527 40.7433339175923, ...\n",
       "3        QN51  POLYGON ((-73.8037916164017 40.7756183875692, ...\n",
       "4        QN27  POLYGON ((-73.86109864852619 40.7636727485249,..."
      ]
     },
     "execution_count": 47,
     "metadata": {},
     "output_type": "execute_result"
    }
   ],
   "source": [
    "%%time\n",
    "dicGeo = {}\n",
    "## Connvert into polygons geodataframe\n",
    "\n",
    "for i in dfGeo.columns:\n",
    "   temp = dfGeo[[i]].copy()\n",
    "   temp['geo']=np.where(temp.index % 2 != 0,'lon','lat')\n",
    "   temp.dropna(inplace=True)\n",
    "   temp_lon = temp.loc[temp.geo=='lon',i].copy()\n",
    "   temp_lat = temp.loc[temp.geo=='lat',i].copy()\n",
    "   dicGeo[i] = Polygon(zip(temp_lat.values,temp_lon.values))\n",
    "dfGeo2 = pd.DataFrame.from_dict(dicGeo,orient='index').reset_index(drop=False)\n",
    "dfGeo2.columns = ['location_id','polygon']\n",
    "dfGeo2.head()\n"
   ]
  },
  {
   "cell_type": "code",
   "execution_count": 48,
   "metadata": {},
   "outputs": [
    {
     "data": {
      "text/html": [
       "<div>\n",
       "<style scoped>\n",
       "    .dataframe tbody tr th:only-of-type {\n",
       "        vertical-align: middle;\n",
       "    }\n",
       "\n",
       "    .dataframe tbody tr th {\n",
       "        vertical-align: top;\n",
       "    }\n",
       "\n",
       "    .dataframe thead th {\n",
       "        text-align: right;\n",
       "    }\n",
       "</style>\n",
       "<table border=\"1\" class=\"dataframe\">\n",
       "  <thead>\n",
       "    <tr style=\"text-align: right;\">\n",
       "      <th></th>\n",
       "      <th>polygon</th>\n",
       "    </tr>\n",
       "    <tr>\n",
       "      <th>location_id</th>\n",
       "      <th></th>\n",
       "    </tr>\n",
       "  </thead>\n",
       "  <tbody>\n",
       "    <tr>\n",
       "      <td>BK88</td>\n",
       "      <td>POLYGON ((-73.9760507905698 40.6312841471042, ...</td>\n",
       "    </tr>\n",
       "    <tr>\n",
       "      <td>QN52</td>\n",
       "      <td>POLYGON ((-73.79493384594591 40.7578063026709,...</td>\n",
       "    </tr>\n",
       "    <tr>\n",
       "      <td>QN48</td>\n",
       "      <td>POLYGON ((-73.7757397458527 40.7433339175923, ...</td>\n",
       "    </tr>\n",
       "    <tr>\n",
       "      <td>QN51</td>\n",
       "      <td>POLYGON ((-73.8037916164017 40.7756183875692, ...</td>\n",
       "    </tr>\n",
       "    <tr>\n",
       "      <td>QN27</td>\n",
       "      <td>POLYGON ((-73.86109864852619 40.7636727485249,...</td>\n",
       "    </tr>\n",
       "    <tr>\n",
       "      <td>...</td>\n",
       "      <td>...</td>\n",
       "    </tr>\n",
       "    <tr>\n",
       "      <td>MN32</td>\n",
       "      <td>POLYGON ((-73.9380478369022 40.7808378163815, ...</td>\n",
       "    </tr>\n",
       "    <tr>\n",
       "      <td>MN33</td>\n",
       "      <td>POLYGON ((-73.9350544306231 40.7916954772443, ...</td>\n",
       "    </tr>\n",
       "    <tr>\n",
       "      <td>MN99</td>\n",
       "      <td>POLYGON ((-74.010929861053 40.684499723222, -7...</td>\n",
       "    </tr>\n",
       "    <tr>\n",
       "      <td>QN18</td>\n",
       "      <td>POLYGON ((-73.8587260603544 40.7357169097371, ...</td>\n",
       "    </tr>\n",
       "    <tr>\n",
       "      <td>QN29</td>\n",
       "      <td>POLYGON ((-73.8679110448243 40.7449419841195, ...</td>\n",
       "    </tr>\n",
       "  </tbody>\n",
       "</table>\n",
       "<p>195 rows × 1 columns</p>\n",
       "</div>"
      ],
      "text/plain": [
       "                                                       polygon\n",
       "location_id                                                   \n",
       "BK88         POLYGON ((-73.9760507905698 40.6312841471042, ...\n",
       "QN52         POLYGON ((-73.79493384594591 40.7578063026709,...\n",
       "QN48         POLYGON ((-73.7757397458527 40.7433339175923, ...\n",
       "QN51         POLYGON ((-73.8037916164017 40.7756183875692, ...\n",
       "QN27         POLYGON ((-73.86109864852619 40.7636727485249,...\n",
       "...                                                        ...\n",
       "MN32         POLYGON ((-73.9380478369022 40.7808378163815, ...\n",
       "MN33         POLYGON ((-73.9350544306231 40.7916954772443, ...\n",
       "MN99         POLYGON ((-74.010929861053 40.684499723222, -7...\n",
       "QN18         POLYGON ((-73.8587260603544 40.7357169097371, ...\n",
       "QN29         POLYGON ((-73.8679110448243 40.7449419841195, ...\n",
       "\n",
       "[195 rows x 1 columns]"
      ]
     },
     "execution_count": 48,
     "metadata": {},
     "output_type": "execute_result"
    }
   ],
   "source": [
    "dfGeo2.set_index('location_id')"
   ]
  },
  {
   "cell_type": "code",
   "execution_count": 49,
   "metadata": {
    "scrolled": true
   },
   "outputs": [
    {
     "name": "stdout",
     "output_type": "stream",
     "text": [
      "CPU times: user 3.14 ms, sys: 2.09 ms, total: 5.23 ms\n",
      "Wall time: 5.07 ms\n"
     ]
    },
    {
     "data": {
      "text/html": [
       "<div>\n",
       "<style scoped>\n",
       "    .dataframe tbody tr th:only-of-type {\n",
       "        vertical-align: middle;\n",
       "    }\n",
       "\n",
       "    .dataframe tbody tr th {\n",
       "        vertical-align: top;\n",
       "    }\n",
       "\n",
       "    .dataframe thead th {\n",
       "        text-align: right;\n",
       "    }\n",
       "</style>\n",
       "<table border=\"1\" class=\"dataframe\">\n",
       "  <thead>\n",
       "    <tr style=\"text-align: right;\">\n",
       "      <th></th>\n",
       "      <th>location_id</th>\n",
       "      <th>polygon</th>\n",
       "    </tr>\n",
       "  </thead>\n",
       "  <tbody>\n",
       "    <tr>\n",
       "      <td>0</td>\n",
       "      <td>BK88</td>\n",
       "      <td>POLYGON ((-73.97605 40.63128, -73.97717 40.630...</td>\n",
       "    </tr>\n",
       "    <tr>\n",
       "      <td>1</td>\n",
       "      <td>QN52</td>\n",
       "      <td>POLYGON ((-73.79493 40.75781, -73.79475 40.755...</td>\n",
       "    </tr>\n",
       "    <tr>\n",
       "      <td>2</td>\n",
       "      <td>QN48</td>\n",
       "      <td>POLYGON ((-73.77574 40.74333, -73.77580 40.743...</td>\n",
       "    </tr>\n",
       "    <tr>\n",
       "      <td>3</td>\n",
       "      <td>QN51</td>\n",
       "      <td>POLYGON ((-73.80379 40.77562, -73.80099 40.775...</td>\n",
       "    </tr>\n",
       "    <tr>\n",
       "      <td>4</td>\n",
       "      <td>QN27</td>\n",
       "      <td>POLYGON ((-73.86110 40.76367, -73.85993 40.762...</td>\n",
       "    </tr>\n",
       "  </tbody>\n",
       "</table>\n",
       "</div>"
      ],
      "text/plain": [
       "  location_id                                            polygon\n",
       "0        BK88  POLYGON ((-73.97605 40.63128, -73.97717 40.630...\n",
       "1        QN52  POLYGON ((-73.79493 40.75781, -73.79475 40.755...\n",
       "2        QN48  POLYGON ((-73.77574 40.74333, -73.77580 40.743...\n",
       "3        QN51  POLYGON ((-73.80379 40.77562, -73.80099 40.775...\n",
       "4        QN27  POLYGON ((-73.86110 40.76367, -73.85993 40.762..."
      ]
     },
     "execution_count": 49,
     "metadata": {},
     "output_type": "execute_result"
    }
   ],
   "source": [
    "%%time\n",
    "dfPolygon = gp.GeoDataFrame(dfGeo2, geometry='polygon', crs={'init': 'epsg:4326'})\n",
    "dfPolygon.head()"
   ]
  },
  {
   "cell_type": "code",
   "execution_count": 50,
   "metadata": {},
   "outputs": [],
   "source": [
    "def addNTA(df, dfPoly):\n",
    "    lstGeometry = [Point(xy) for xy in zip(df.pickup_longitude, df.pickup_latitude)]\n",
    "    dfPoints = gp.GeoDataFrame(df, geometry=lstGeometry, crs={'init': 'epsg:4326'})\n",
    "    dfNTA = gp.sjoin(dfPoints, dfPoly, how=\"left\", op='within')\n",
    "\n",
    "    return dfNTA"
   ]
  },
  {
   "cell_type": "code",
   "execution_count": 51,
   "metadata": {},
   "outputs": [],
   "source": [
    "#%%time\n",
    "#lstGeometry = [Point(xy) for xy in zip(dfU14.pickup_longitude, dfU14.pickup_latitude)]\n",
    "#dfPoints = gp.GeoDataFrame(dfU14, geometry=lstGeometry, crs={'init': 'epsg:4326'})\n"
   ]
  },
  {
   "cell_type": "code",
   "execution_count": 52,
   "metadata": {},
   "outputs": [],
   "source": [
    "#%%time\n",
    "#dfU14NTA = gp.sjoin(dfPoints, dfZones, how=\"left\", op='within')\n",
    "#dfU14NTA.head()"
   ]
  },
  {
   "cell_type": "code",
   "execution_count": 53,
   "metadata": {},
   "outputs": [
    {
     "name": "stdout",
     "output_type": "stream",
     "text": [
      "CPU times: user 9min 13s, sys: 13.2 s, total: 9min 27s\n",
      "Wall time: 10min 33s\n"
     ]
    },
    {
     "data": {
      "text/html": [
       "<div>\n",
       "<style scoped>\n",
       "    .dataframe tbody tr th:only-of-type {\n",
       "        vertical-align: middle;\n",
       "    }\n",
       "\n",
       "    .dataframe tbody tr th {\n",
       "        vertical-align: top;\n",
       "    }\n",
       "\n",
       "    .dataframe thead th {\n",
       "        text-align: right;\n",
       "    }\n",
       "</style>\n",
       "<table border=\"1\" class=\"dataframe\">\n",
       "  <thead>\n",
       "    <tr style=\"text-align: right;\">\n",
       "      <th></th>\n",
       "      <th>pickup_datetime</th>\n",
       "      <th>pickup_latitude</th>\n",
       "      <th>pickup_longitude</th>\n",
       "      <th>base</th>\n",
       "      <th>Symbol</th>\n",
       "      <th>TIME</th>\n",
       "      <th>DATE</th>\n",
       "      <th>geometry</th>\n",
       "      <th>index_right</th>\n",
       "      <th>location_id</th>\n",
       "    </tr>\n",
       "  </thead>\n",
       "  <tbody>\n",
       "    <tr>\n",
       "      <td>0</td>\n",
       "      <td>2014-04-01 00:11:00</td>\n",
       "      <td>40.7690</td>\n",
       "      <td>-73.9549</td>\n",
       "      <td>B02512</td>\n",
       "      <td>U14</td>\n",
       "      <td>0</td>\n",
       "      <td>2014-04-01</td>\n",
       "      <td>POINT (-73.95490 40.76900)</td>\n",
       "      <td>NaN</td>\n",
       "      <td>NaN</td>\n",
       "    </tr>\n",
       "    <tr>\n",
       "      <td>1</td>\n",
       "      <td>2014-04-01 00:17:00</td>\n",
       "      <td>40.7267</td>\n",
       "      <td>-74.0345</td>\n",
       "      <td>B02512</td>\n",
       "      <td>U14</td>\n",
       "      <td>0</td>\n",
       "      <td>2014-04-01</td>\n",
       "      <td>POINT (-74.03450 40.72670)</td>\n",
       "      <td>NaN</td>\n",
       "      <td>NaN</td>\n",
       "    </tr>\n",
       "    <tr>\n",
       "      <td>2</td>\n",
       "      <td>2014-04-01 00:21:00</td>\n",
       "      <td>40.7316</td>\n",
       "      <td>-73.9873</td>\n",
       "      <td>B02512</td>\n",
       "      <td>U14</td>\n",
       "      <td>0</td>\n",
       "      <td>2014-04-01</td>\n",
       "      <td>POINT (-73.98730 40.73160)</td>\n",
       "      <td>150.0</td>\n",
       "      <td>MN22</td>\n",
       "    </tr>\n",
       "    <tr>\n",
       "      <td>3</td>\n",
       "      <td>2014-04-01 00:28:00</td>\n",
       "      <td>40.7588</td>\n",
       "      <td>-73.9776</td>\n",
       "      <td>B02512</td>\n",
       "      <td>U14</td>\n",
       "      <td>0</td>\n",
       "      <td>2014-04-01</td>\n",
       "      <td>POINT (-73.97760 40.75880)</td>\n",
       "      <td>14.0</td>\n",
       "      <td>MN17</td>\n",
       "    </tr>\n",
       "    <tr>\n",
       "      <td>4</td>\n",
       "      <td>2014-04-01 00:33:00</td>\n",
       "      <td>40.7594</td>\n",
       "      <td>-73.9722</td>\n",
       "      <td>B02512</td>\n",
       "      <td>U14</td>\n",
       "      <td>0</td>\n",
       "      <td>2014-04-01</td>\n",
       "      <td>POINT (-73.97220 40.75940)</td>\n",
       "      <td>15.0</td>\n",
       "      <td>MN19</td>\n",
       "    </tr>\n",
       "  </tbody>\n",
       "</table>\n",
       "</div>"
      ],
      "text/plain": [
       "      pickup_datetime  pickup_latitude  pickup_longitude    base Symbol  TIME  \\\n",
       "0 2014-04-01 00:11:00          40.7690          -73.9549  B02512    U14     0   \n",
       "1 2014-04-01 00:17:00          40.7267          -74.0345  B02512    U14     0   \n",
       "2 2014-04-01 00:21:00          40.7316          -73.9873  B02512    U14     0   \n",
       "3 2014-04-01 00:28:00          40.7588          -73.9776  B02512    U14     0   \n",
       "4 2014-04-01 00:33:00          40.7594          -73.9722  B02512    U14     0   \n",
       "\n",
       "         DATE                    geometry  index_right location_id  \n",
       "0  2014-04-01  POINT (-73.95490 40.76900)          NaN         NaN  \n",
       "1  2014-04-01  POINT (-74.03450 40.72670)          NaN         NaN  \n",
       "2  2014-04-01  POINT (-73.98730 40.73160)        150.0        MN22  \n",
       "3  2014-04-01  POINT (-73.97760 40.75880)         14.0        MN17  \n",
       "4  2014-04-01  POINT (-73.97220 40.75940)         15.0        MN19  "
      ]
     },
     "execution_count": 53,
     "metadata": {},
     "output_type": "execute_result"
    }
   ],
   "source": [
    "%%time\n",
    "dfU14NTA = addNTA(dfU14, dfPolygon)\n",
    "dfU14NTA.head()"
   ]
  },
  {
   "cell_type": "code",
   "execution_count": 54,
   "metadata": {},
   "outputs": [
    {
     "name": "stdout",
     "output_type": "stream",
     "text": [
      "CPU times: user 6min 53s, sys: 11.1 s, total: 7min 4s\n",
      "Wall time: 7min 19s\n"
     ]
    },
    {
     "data": {
      "text/html": [
       "<div>\n",
       "<style scoped>\n",
       "    .dataframe tbody tr th:only-of-type {\n",
       "        vertical-align: middle;\n",
       "    }\n",
       "\n",
       "    .dataframe tbody tr th {\n",
       "        vertical-align: top;\n",
       "    }\n",
       "\n",
       "    .dataframe thead th {\n",
       "        text-align: right;\n",
       "    }\n",
       "</style>\n",
       "<table border=\"1\" class=\"dataframe\">\n",
       "  <thead>\n",
       "    <tr style=\"text-align: right;\">\n",
       "      <th></th>\n",
       "      <th>pickup_datetime</th>\n",
       "      <th>dropoff_datetime</th>\n",
       "      <th>pickup_longitude</th>\n",
       "      <th>pickup_latitude</th>\n",
       "      <th>dropoff_longitude</th>\n",
       "      <th>dropoff_latitude</th>\n",
       "      <th>passenger_count</th>\n",
       "      <th>trip_distance</th>\n",
       "      <th>total_amount</th>\n",
       "      <th>Symbol</th>\n",
       "      <th>TIME</th>\n",
       "      <th>DATE</th>\n",
       "      <th>geometry</th>\n",
       "      <th>index_right</th>\n",
       "      <th>location_id</th>\n",
       "    </tr>\n",
       "  </thead>\n",
       "  <tbody>\n",
       "    <tr>\n",
       "      <td>0</td>\n",
       "      <td>2015-02-01 01:26:45</td>\n",
       "      <td>2015-02-01 01:49:58</td>\n",
       "      <td>-73.953545</td>\n",
       "      <td>40.811172</td>\n",
       "      <td>-73.984764</td>\n",
       "      <td>40.728386</td>\n",
       "      <td>1</td>\n",
       "      <td>8.11</td>\n",
       "      <td>27.8</td>\n",
       "      <td>GCT</td>\n",
       "      <td>1</td>\n",
       "      <td>2015-02-01</td>\n",
       "      <td>POINT (-73.95354 40.81117)</td>\n",
       "      <td>148.0</td>\n",
       "      <td>MN09</td>\n",
       "    </tr>\n",
       "    <tr>\n",
       "      <td>1</td>\n",
       "      <td>2015-01-02 20:06:28</td>\n",
       "      <td>2015-01-02 20:14:04</td>\n",
       "      <td>-73.946709</td>\n",
       "      <td>40.714321</td>\n",
       "      <td>-73.961571</td>\n",
       "      <td>40.711475</td>\n",
       "      <td>1</td>\n",
       "      <td>1.29</td>\n",
       "      <td>9.8</td>\n",
       "      <td>GCT</td>\n",
       "      <td>20</td>\n",
       "      <td>2015-01-02</td>\n",
       "      <td>POINT (-73.94671 40.71432)</td>\n",
       "      <td>59.0</td>\n",
       "      <td>BK90</td>\n",
       "    </tr>\n",
       "    <tr>\n",
       "      <td>2</td>\n",
       "      <td>2014-09-27 17:55:38</td>\n",
       "      <td>2014-09-27 18:19:56</td>\n",
       "      <td>-73.957626</td>\n",
       "      <td>40.718094</td>\n",
       "      <td>-73.947304</td>\n",
       "      <td>40.777813</td>\n",
       "      <td>5</td>\n",
       "      <td>6.12</td>\n",
       "      <td>26.3</td>\n",
       "      <td>GCT</td>\n",
       "      <td>17</td>\n",
       "      <td>2014-09-27</td>\n",
       "      <td>POINT (-73.95763 40.71809)</td>\n",
       "      <td>135.0</td>\n",
       "      <td>BK73</td>\n",
       "    </tr>\n",
       "    <tr>\n",
       "      <td>3</td>\n",
       "      <td>2014-04-27 02:27:04</td>\n",
       "      <td>2014-04-27 02:39:02</td>\n",
       "      <td>-73.949501</td>\n",
       "      <td>40.713997</td>\n",
       "      <td>-73.987785</td>\n",
       "      <td>40.718582</td>\n",
       "      <td>2</td>\n",
       "      <td>3.68</td>\n",
       "      <td>17.3</td>\n",
       "      <td>GCT</td>\n",
       "      <td>2</td>\n",
       "      <td>2014-04-27</td>\n",
       "      <td>POINT (-73.94950 40.71400)</td>\n",
       "      <td>135.0</td>\n",
       "      <td>BK73</td>\n",
       "    </tr>\n",
       "    <tr>\n",
       "      <td>4</td>\n",
       "      <td>2014-05-26 18:32:19</td>\n",
       "      <td>2014-05-26 18:44:13</td>\n",
       "      <td>-73.944092</td>\n",
       "      <td>40.672195</td>\n",
       "      <td>-73.977325</td>\n",
       "      <td>40.664013</td>\n",
       "      <td>1</td>\n",
       "      <td>2.40</td>\n",
       "      <td>11.5</td>\n",
       "      <td>GCT</td>\n",
       "      <td>18</td>\n",
       "      <td>2014-05-26</td>\n",
       "      <td>POINT (-73.94409 40.67220)</td>\n",
       "      <td>66.0</td>\n",
       "      <td>BK61</td>\n",
       "    </tr>\n",
       "  </tbody>\n",
       "</table>\n",
       "</div>"
      ],
      "text/plain": [
       "       pickup_datetime     dropoff_datetime  pickup_longitude  \\\n",
       "0  2015-02-01 01:26:45  2015-02-01 01:49:58        -73.953545   \n",
       "1  2015-01-02 20:06:28  2015-01-02 20:14:04        -73.946709   \n",
       "2  2014-09-27 17:55:38  2014-09-27 18:19:56        -73.957626   \n",
       "3  2014-04-27 02:27:04  2014-04-27 02:39:02        -73.949501   \n",
       "4  2014-05-26 18:32:19  2014-05-26 18:44:13        -73.944092   \n",
       "\n",
       "   pickup_latitude  dropoff_longitude  dropoff_latitude  passenger_count  \\\n",
       "0        40.811172         -73.984764         40.728386                1   \n",
       "1        40.714321         -73.961571         40.711475                1   \n",
       "2        40.718094         -73.947304         40.777813                5   \n",
       "3        40.713997         -73.987785         40.718582                2   \n",
       "4        40.672195         -73.977325         40.664013                1   \n",
       "\n",
       "   trip_distance  total_amount Symbol  TIME        DATE  \\\n",
       "0           8.11          27.8    GCT     1  2015-02-01   \n",
       "1           1.29           9.8    GCT    20  2015-01-02   \n",
       "2           6.12          26.3    GCT    17  2014-09-27   \n",
       "3           3.68          17.3    GCT     2  2014-04-27   \n",
       "4           2.40          11.5    GCT    18  2014-05-26   \n",
       "\n",
       "                     geometry  index_right location_id  \n",
       "0  POINT (-73.95354 40.81117)        148.0        MN09  \n",
       "1  POINT (-73.94671 40.71432)         59.0        BK90  \n",
       "2  POINT (-73.95763 40.71809)        135.0        BK73  \n",
       "3  POINT (-73.94950 40.71400)        135.0        BK73  \n",
       "4  POINT (-73.94409 40.67220)         66.0        BK61  "
      ]
     },
     "execution_count": 54,
     "metadata": {},
     "output_type": "execute_result"
    }
   ],
   "source": [
    "%%time\n",
    "dfGCNTA = addNTA(dfGC, dfPolygon)\n",
    "dfGCNTA.head()"
   ]
  },
  {
   "cell_type": "code",
   "execution_count": 55,
   "metadata": {},
   "outputs": [
    {
     "name": "stdout",
     "output_type": "stream",
     "text": [
      "CPU times: user 14min 38s, sys: 34.5 s, total: 15min 12s\n",
      "Wall time: 15min 36s\n"
     ]
    },
    {
     "data": {
      "text/html": [
       "<div>\n",
       "<style scoped>\n",
       "    .dataframe tbody tr th:only-of-type {\n",
       "        vertical-align: middle;\n",
       "    }\n",
       "\n",
       "    .dataframe tbody tr th {\n",
       "        vertical-align: top;\n",
       "    }\n",
       "\n",
       "    .dataframe thead th {\n",
       "        text-align: right;\n",
       "    }\n",
       "</style>\n",
       "<table border=\"1\" class=\"dataframe\">\n",
       "  <thead>\n",
       "    <tr style=\"text-align: right;\">\n",
       "      <th></th>\n",
       "      <th>pickup_datetime</th>\n",
       "      <th>dropoff_datetime</th>\n",
       "      <th>pickup_longitude</th>\n",
       "      <th>pickup_latitude</th>\n",
       "      <th>dropoff_longitude</th>\n",
       "      <th>dropoff_latitude</th>\n",
       "      <th>passenger_count</th>\n",
       "      <th>trip_distance</th>\n",
       "      <th>total_amount</th>\n",
       "      <th>Symbol</th>\n",
       "      <th>TIME</th>\n",
       "      <th>DATE</th>\n",
       "      <th>geometry</th>\n",
       "      <th>index_right</th>\n",
       "      <th>location_id</th>\n",
       "    </tr>\n",
       "  </thead>\n",
       "  <tbody>\n",
       "    <tr>\n",
       "      <td>0</td>\n",
       "      <td>2014-04-03 18:28:10</td>\n",
       "      <td>2014-04-03 18:54:32</td>\n",
       "      <td>-74.006033</td>\n",
       "      <td>40.706284</td>\n",
       "      <td>-73.918837</td>\n",
       "      <td>40.744946</td>\n",
       "      <td>1</td>\n",
       "      <td>8.70</td>\n",
       "      <td>34.8</td>\n",
       "      <td>YCT</td>\n",
       "      <td>18</td>\n",
       "      <td>2014-04-03</td>\n",
       "      <td>POINT (-74.00603 40.70628)</td>\n",
       "      <td>NaN</td>\n",
       "      <td>NaN</td>\n",
       "    </tr>\n",
       "    <tr>\n",
       "      <td>1</td>\n",
       "      <td>2014-04-16 15:42:00</td>\n",
       "      <td>2014-04-16 16:07:00</td>\n",
       "      <td>-73.979558</td>\n",
       "      <td>40.749357</td>\n",
       "      <td>0.000000</td>\n",
       "      <td>0.000000</td>\n",
       "      <td>1</td>\n",
       "      <td>9.37</td>\n",
       "      <td>30.0</td>\n",
       "      <td>YCT</td>\n",
       "      <td>15</td>\n",
       "      <td>2014-04-16</td>\n",
       "      <td>POINT (-73.97956 40.74936)</td>\n",
       "      <td>63.0</td>\n",
       "      <td>MN20</td>\n",
       "    </tr>\n",
       "    <tr>\n",
       "      <td>2</td>\n",
       "      <td>2014-04-13 18:04:00</td>\n",
       "      <td>2014-04-13 18:07:00</td>\n",
       "      <td>-73.956453</td>\n",
       "      <td>40.775307</td>\n",
       "      <td>-73.954792</td>\n",
       "      <td>40.784992</td>\n",
       "      <td>1</td>\n",
       "      <td>0.89</td>\n",
       "      <td>6.5</td>\n",
       "      <td>YCT</td>\n",
       "      <td>18</td>\n",
       "      <td>2014-04-13</td>\n",
       "      <td>POINT (-73.95645 40.77531)</td>\n",
       "      <td>NaN</td>\n",
       "      <td>NaN</td>\n",
       "    </tr>\n",
       "    <tr>\n",
       "      <td>3</td>\n",
       "      <td>2014-05-21 19:33:00</td>\n",
       "      <td>2014-05-21 19:45:00</td>\n",
       "      <td>-73.987212</td>\n",
       "      <td>40.757850</td>\n",
       "      <td>-73.960198</td>\n",
       "      <td>40.775472</td>\n",
       "      <td>1</td>\n",
       "      <td>2.40</td>\n",
       "      <td>12.5</td>\n",
       "      <td>YCT</td>\n",
       "      <td>19</td>\n",
       "      <td>2014-05-21</td>\n",
       "      <td>POINT (-73.98721 40.75785)</td>\n",
       "      <td>14.0</td>\n",
       "      <td>MN17</td>\n",
       "    </tr>\n",
       "    <tr>\n",
       "      <td>4</td>\n",
       "      <td>2014-05-30 16:28:00</td>\n",
       "      <td>2014-05-30 16:51:00</td>\n",
       "      <td>-73.974292</td>\n",
       "      <td>40.755397</td>\n",
       "      <td>-74.011867</td>\n",
       "      <td>40.704222</td>\n",
       "      <td>3</td>\n",
       "      <td>5.58</td>\n",
       "      <td>24.5</td>\n",
       "      <td>YCT</td>\n",
       "      <td>16</td>\n",
       "      <td>2014-05-30</td>\n",
       "      <td>POINT (-73.97429 40.75540)</td>\n",
       "      <td>15.0</td>\n",
       "      <td>MN19</td>\n",
       "    </tr>\n",
       "  </tbody>\n",
       "</table>\n",
       "</div>"
      ],
      "text/plain": [
       "       pickup_datetime     dropoff_datetime  pickup_longitude  \\\n",
       "0  2014-04-03 18:28:10  2014-04-03 18:54:32        -74.006033   \n",
       "1  2014-04-16 15:42:00  2014-04-16 16:07:00        -73.979558   \n",
       "2  2014-04-13 18:04:00  2014-04-13 18:07:00        -73.956453   \n",
       "3  2014-05-21 19:33:00  2014-05-21 19:45:00        -73.987212   \n",
       "4  2014-05-30 16:28:00  2014-05-30 16:51:00        -73.974292   \n",
       "\n",
       "   pickup_latitude  dropoff_longitude  dropoff_latitude  passenger_count  \\\n",
       "0        40.706284         -73.918837         40.744946                1   \n",
       "1        40.749357           0.000000          0.000000                1   \n",
       "2        40.775307         -73.954792         40.784992                1   \n",
       "3        40.757850         -73.960198         40.775472                1   \n",
       "4        40.755397         -74.011867         40.704222                3   \n",
       "\n",
       "   trip_distance  total_amount Symbol  TIME        DATE  \\\n",
       "0           8.70          34.8    YCT    18  2014-04-03   \n",
       "1           9.37          30.0    YCT    15  2014-04-16   \n",
       "2           0.89           6.5    YCT    18  2014-04-13   \n",
       "3           2.40          12.5    YCT    19  2014-05-21   \n",
       "4           5.58          24.5    YCT    16  2014-05-30   \n",
       "\n",
       "                     geometry  index_right location_id  \n",
       "0  POINT (-74.00603 40.70628)          NaN         NaN  \n",
       "1  POINT (-73.97956 40.74936)         63.0        MN20  \n",
       "2  POINT (-73.95645 40.77531)          NaN         NaN  \n",
       "3  POINT (-73.98721 40.75785)         14.0        MN17  \n",
       "4  POINT (-73.97429 40.75540)         15.0        MN19  "
      ]
     },
     "execution_count": 55,
     "metadata": {},
     "output_type": "execute_result"
    }
   ],
   "source": [
    "%%time\n",
    "dfYCNTA = addNTA(dfYC, dfPolygon)\n",
    "dfYCNTA.head()"
   ]
  },
  {
   "cell_type": "code",
   "execution_count": 56,
   "metadata": {},
   "outputs": [
    {
     "data": {
      "text/plain": [
       "Index(['pickup_datetime', 'pickup_latitude', 'pickup_longitude', 'base',\n",
       "       'Symbol', 'TIME', 'DATE', 'geometry', 'index_right', 'location_id'],\n",
       "      dtype='object')"
      ]
     },
     "execution_count": 56,
     "metadata": {},
     "output_type": "execute_result"
    }
   ],
   "source": [
    "dfU14NTA.columns"
   ]
  },
  {
   "cell_type": "code",
   "execution_count": 57,
   "metadata": {},
   "outputs": [
    {
     "data": {
      "text/plain": [
       "Index(['pickup_datetime', 'pickup_location_id', 'dispatch_base',\n",
       "       'affiliate_base', 'Symbol', 'TIME', 'DATE'],\n",
       "      dtype='object')"
      ]
     },
     "execution_count": 57,
     "metadata": {},
     "output_type": "execute_result"
    }
   ],
   "source": [
    "dfU15.columns"
   ]
  },
  {
   "cell_type": "code",
   "execution_count": 58,
   "metadata": {},
   "outputs": [
    {
     "data": {
      "text/plain": [
       "Index(['pickup_datetime', 'dropoff_datetime', 'pickup_longitude',\n",
       "       'pickup_latitude', 'dropoff_longitude', 'dropoff_latitude',\n",
       "       'passenger_count', 'trip_distance', 'total_amount', 'Symbol', 'TIME',\n",
       "       'DATE', 'geometry', 'index_right', 'location_id'],\n",
       "      dtype='object')"
      ]
     },
     "execution_count": 58,
     "metadata": {},
     "output_type": "execute_result"
    }
   ],
   "source": [
    "dfGCNTA.columns"
   ]
  },
  {
   "cell_type": "code",
   "execution_count": 59,
   "metadata": {},
   "outputs": [
    {
     "data": {
      "text/plain": [
       "Index(['pickup_datetime', 'dropoff_datetime', 'pickup_longitude',\n",
       "       'pickup_latitude', 'dropoff_longitude', 'dropoff_latitude',\n",
       "       'passenger_count', 'trip_distance', 'total_amount', 'Symbol', 'TIME',\n",
       "       'DATE', 'geometry', 'index_right', 'location_id'],\n",
       "      dtype='object')"
      ]
     },
     "execution_count": 59,
     "metadata": {},
     "output_type": "execute_result"
    }
   ],
   "source": [
    "dfYCNTA.columns"
   ]
  },
  {
   "cell_type": "code",
   "execution_count": 60,
   "metadata": {},
   "outputs": [
    {
     "name": "stdout",
     "output_type": "stream",
     "text": [
      "CPU times: user 5 µs, sys: 1 µs, total: 6 µs\n",
      "Wall time: 11.9 µs\n"
     ]
    }
   ],
   "source": [
    "%%time\n",
    "#dfU14NTA.to_csv(d.strPath + 'dfU14NTA.csv')\n",
    "#dfU15.to_csv(d.strPath + 'dfU15.csv')\n",
    "#dfGCNTA.to_csv(d.strPath + 'dfGCNTA.csv')\n",
    "#dfYCNTA.to_csv(d.strPath + 'dfYCNTA.csv')"
   ]
  },
  {
   "cell_type": "markdown",
   "metadata": {},
   "source": [
    "Now we can use the common columns in every dataframe to create an homogeneus Car Trips dataframe."
   ]
  },
  {
   "cell_type": "code",
   "execution_count": 62,
   "metadata": {
    "scrolled": true
   },
   "outputs": [
    {
     "data": {
      "text/html": [
       "<div>\n",
       "<style scoped>\n",
       "    .dataframe tbody tr th:only-of-type {\n",
       "        vertical-align: middle;\n",
       "    }\n",
       "\n",
       "    .dataframe tbody tr th {\n",
       "        vertical-align: top;\n",
       "    }\n",
       "\n",
       "    .dataframe thead th {\n",
       "        text-align: right;\n",
       "    }\n",
       "</style>\n",
       "<table border=\"1\" class=\"dataframe\">\n",
       "  <thead>\n",
       "    <tr style=\"text-align: right;\">\n",
       "      <th></th>\n",
       "      <th>pickup_datetime</th>\n",
       "      <th>pickup_location_id</th>\n",
       "      <th>dispatch_base</th>\n",
       "      <th>affiliate_base</th>\n",
       "      <th>Symbol</th>\n",
       "      <th>TIME</th>\n",
       "      <th>DATE</th>\n",
       "    </tr>\n",
       "  </thead>\n",
       "  <tbody>\n",
       "    <tr>\n",
       "      <td>0</td>\n",
       "      <td>2015-05-17 09:47:00</td>\n",
       "      <td>141</td>\n",
       "      <td>B02617</td>\n",
       "      <td>B02617</td>\n",
       "      <td>U15</td>\n",
       "      <td>9</td>\n",
       "      <td>2015-05-17</td>\n",
       "    </tr>\n",
       "    <tr>\n",
       "      <td>1</td>\n",
       "      <td>2015-05-17 09:47:00</td>\n",
       "      <td>65</td>\n",
       "      <td>B02617</td>\n",
       "      <td>B02617</td>\n",
       "      <td>U15</td>\n",
       "      <td>9</td>\n",
       "      <td>2015-05-17</td>\n",
       "    </tr>\n",
       "    <tr>\n",
       "      <td>2</td>\n",
       "      <td>2015-05-17 09:47:00</td>\n",
       "      <td>100</td>\n",
       "      <td>B02617</td>\n",
       "      <td>B02617</td>\n",
       "      <td>U15</td>\n",
       "      <td>9</td>\n",
       "      <td>2015-05-17</td>\n",
       "    </tr>\n",
       "    <tr>\n",
       "      <td>3</td>\n",
       "      <td>2015-05-17 09:47:00</td>\n",
       "      <td>80</td>\n",
       "      <td>B02617</td>\n",
       "      <td>B02774</td>\n",
       "      <td>U15</td>\n",
       "      <td>9</td>\n",
       "      <td>2015-05-17</td>\n",
       "    </tr>\n",
       "    <tr>\n",
       "      <td>4</td>\n",
       "      <td>2015-05-17 09:47:00</td>\n",
       "      <td>90</td>\n",
       "      <td>B02617</td>\n",
       "      <td>B02617</td>\n",
       "      <td>U15</td>\n",
       "      <td>9</td>\n",
       "      <td>2015-05-17</td>\n",
       "    </tr>\n",
       "  </tbody>\n",
       "</table>\n",
       "</div>"
      ],
      "text/plain": [
       "       pickup_datetime  pickup_location_id dispatch_base affiliate_base  \\\n",
       "0  2015-05-17 09:47:00                 141        B02617         B02617   \n",
       "1  2015-05-17 09:47:00                  65        B02617         B02617   \n",
       "2  2015-05-17 09:47:00                 100        B02617         B02617   \n",
       "3  2015-05-17 09:47:00                  80        B02617         B02774   \n",
       "4  2015-05-17 09:47:00                  90        B02617         B02617   \n",
       "\n",
       "  Symbol  TIME        DATE  \n",
       "0    U15     9  2015-05-17  \n",
       "1    U15     9  2015-05-17  \n",
       "2    U15     9  2015-05-17  \n",
       "3    U15     9  2015-05-17  \n",
       "4    U15     9  2015-05-17  "
      ]
     },
     "execution_count": 62,
     "metadata": {},
     "output_type": "execute_result"
    }
   ],
   "source": [
    "dfU15.head()"
   ]
  },
  {
   "cell_type": "code",
   "execution_count": 63,
   "metadata": {},
   "outputs": [
    {
     "name": "stdout",
     "output_type": "stream",
     "text": [
      "CPU times: user 423 µs, sys: 118 µs, total: 541 µs\n",
      "Wall time: 489 µs\n"
     ]
    },
    {
     "data": {
      "text/html": [
       "<div>\n",
       "<style scoped>\n",
       "    .dataframe tbody tr th:only-of-type {\n",
       "        vertical-align: middle;\n",
       "    }\n",
       "\n",
       "    .dataframe tbody tr th {\n",
       "        vertical-align: top;\n",
       "    }\n",
       "\n",
       "    .dataframe thead th {\n",
       "        text-align: right;\n",
       "    }\n",
       "</style>\n",
       "<table border=\"1\" class=\"dataframe\">\n",
       "  <thead>\n",
       "    <tr style=\"text-align: right;\">\n",
       "      <th></th>\n",
       "      <th>location_id</th>\n",
       "      <th>borough</th>\n",
       "      <th>zone</th>\n",
       "      <th>service_zone</th>\n",
       "      <th>nta_code</th>\n",
       "    </tr>\n",
       "  </thead>\n",
       "  <tbody>\n",
       "    <tr>\n",
       "      <td>0</td>\n",
       "      <td>1</td>\n",
       "      <td>EWR</td>\n",
       "      <td>Newark Airport</td>\n",
       "      <td>EWR</td>\n",
       "      <td>NJ01</td>\n",
       "    </tr>\n",
       "    <tr>\n",
       "      <td>1</td>\n",
       "      <td>2</td>\n",
       "      <td>Queens</td>\n",
       "      <td>Jamaica Bay</td>\n",
       "      <td>Boro Zone</td>\n",
       "      <td>QN61</td>\n",
       "    </tr>\n",
       "    <tr>\n",
       "      <td>2</td>\n",
       "      <td>3</td>\n",
       "      <td>Bronx</td>\n",
       "      <td>Allerton/Pelham Gardens</td>\n",
       "      <td>Boro Zone</td>\n",
       "      <td>BX31</td>\n",
       "    </tr>\n",
       "    <tr>\n",
       "      <td>3</td>\n",
       "      <td>4</td>\n",
       "      <td>Manhattan</td>\n",
       "      <td>Alphabet City</td>\n",
       "      <td>Yellow Zone</td>\n",
       "      <td>MN22</td>\n",
       "    </tr>\n",
       "    <tr>\n",
       "      <td>4</td>\n",
       "      <td>5</td>\n",
       "      <td>Staten Island</td>\n",
       "      <td>Arden Heights</td>\n",
       "      <td>Boro Zone</td>\n",
       "      <td>SI48</td>\n",
       "    </tr>\n",
       "  </tbody>\n",
       "</table>\n",
       "</div>"
      ],
      "text/plain": [
       "   location_id        borough                     zone service_zone nta_code\n",
       "0            1            EWR           Newark Airport          EWR     NJ01\n",
       "1            2         Queens              Jamaica Bay    Boro Zone     QN61\n",
       "2            3          Bronx  Allerton/Pelham Gardens    Boro Zone     BX31\n",
       "3            4      Manhattan            Alphabet City  Yellow Zone     MN22\n",
       "4            5  Staten Island            Arden Heights    Boro Zone     SI48"
      ]
     },
     "execution_count": 63,
     "metadata": {},
     "output_type": "execute_result"
    }
   ],
   "source": [
    "%%time\n",
    "dfZones.head()"
   ]
  },
  {
   "cell_type": "code",
   "execution_count": 64,
   "metadata": {},
   "outputs": [],
   "source": [
    "def getNTA(LocationID):\n",
    "    obj = dfZones[dfZones['location_id']==LocationID]['nta_code']\n",
    "    #print(type(obj))\n",
    "    if len(obj.values) == 0:\n",
    "        #print(obj)\n",
    "        return None\n",
    "    else:\n",
    "        return obj.values[0]\n",
    "\n",
    "#getNTA(141)"
   ]
  },
  {
   "cell_type": "code",
   "execution_count": 110,
   "metadata": {
    "scrolled": true
   },
   "outputs": [
    {
     "name": "stdout",
     "output_type": "stream",
     "text": [
      "CPU times: user 23.5 s, sys: 9.02 s, total: 32.5 s\n",
      "Wall time: 32.7 s\n"
     ]
    },
    {
     "data": {
      "text/html": [
       "<div>\n",
       "<style scoped>\n",
       "    .dataframe tbody tr th:only-of-type {\n",
       "        vertical-align: middle;\n",
       "    }\n",
       "\n",
       "    .dataframe tbody tr th {\n",
       "        vertical-align: top;\n",
       "    }\n",
       "\n",
       "    .dataframe thead th {\n",
       "        text-align: right;\n",
       "    }\n",
       "</style>\n",
       "<table border=\"1\" class=\"dataframe\">\n",
       "  <thead>\n",
       "    <tr style=\"text-align: right;\">\n",
       "      <th></th>\n",
       "      <th>pickup_datetime</th>\n",
       "      <th>pickup_location_id</th>\n",
       "      <th>dispatch_base</th>\n",
       "      <th>affiliate_base</th>\n",
       "      <th>Symbol</th>\n",
       "      <th>TIME</th>\n",
       "      <th>DATE</th>\n",
       "      <th>location_id</th>\n",
       "      <th>borough</th>\n",
       "      <th>zone</th>\n",
       "      <th>service_zone</th>\n",
       "      <th>nta_code</th>\n",
       "      <th>_merge</th>\n",
       "    </tr>\n",
       "  </thead>\n",
       "  <tbody>\n",
       "    <tr>\n",
       "      <td>0</td>\n",
       "      <td>2015-05-17 09:47:00</td>\n",
       "      <td>141</td>\n",
       "      <td>B02617</td>\n",
       "      <td>B02617</td>\n",
       "      <td>U15</td>\n",
       "      <td>9</td>\n",
       "      <td>2015-05-17</td>\n",
       "      <td>141.0</td>\n",
       "      <td>Manhattan</td>\n",
       "      <td>Lenox Hill West</td>\n",
       "      <td>Yellow Zone</td>\n",
       "      <td>MN31</td>\n",
       "      <td>both</td>\n",
       "    </tr>\n",
       "    <tr>\n",
       "      <td>1</td>\n",
       "      <td>2015-05-17 09:47:00</td>\n",
       "      <td>65</td>\n",
       "      <td>B02617</td>\n",
       "      <td>B02617</td>\n",
       "      <td>U15</td>\n",
       "      <td>9</td>\n",
       "      <td>2015-05-17</td>\n",
       "      <td>65.0</td>\n",
       "      <td>Brooklyn</td>\n",
       "      <td>Downtown Brooklyn/MetroTech</td>\n",
       "      <td>Boro Zone</td>\n",
       "      <td>BK38</td>\n",
       "      <td>both</td>\n",
       "    </tr>\n",
       "    <tr>\n",
       "      <td>2</td>\n",
       "      <td>2015-05-17 09:47:00</td>\n",
       "      <td>100</td>\n",
       "      <td>B02617</td>\n",
       "      <td>B02617</td>\n",
       "      <td>U15</td>\n",
       "      <td>9</td>\n",
       "      <td>2015-05-17</td>\n",
       "      <td>100.0</td>\n",
       "      <td>Manhattan</td>\n",
       "      <td>Garment District</td>\n",
       "      <td>Yellow Zone</td>\n",
       "      <td>MN13</td>\n",
       "      <td>both</td>\n",
       "    </tr>\n",
       "    <tr>\n",
       "      <td>3</td>\n",
       "      <td>2015-05-17 09:47:00</td>\n",
       "      <td>80</td>\n",
       "      <td>B02617</td>\n",
       "      <td>B02774</td>\n",
       "      <td>U15</td>\n",
       "      <td>9</td>\n",
       "      <td>2015-05-17</td>\n",
       "      <td>80.0</td>\n",
       "      <td>Brooklyn</td>\n",
       "      <td>East Williamsburg</td>\n",
       "      <td>Boro Zone</td>\n",
       "      <td>BK90</td>\n",
       "      <td>both</td>\n",
       "    </tr>\n",
       "    <tr>\n",
       "      <td>4</td>\n",
       "      <td>2015-05-17 09:47:00</td>\n",
       "      <td>90</td>\n",
       "      <td>B02617</td>\n",
       "      <td>B02617</td>\n",
       "      <td>U15</td>\n",
       "      <td>9</td>\n",
       "      <td>2015-05-17</td>\n",
       "      <td>90.0</td>\n",
       "      <td>Manhattan</td>\n",
       "      <td>Flatiron</td>\n",
       "      <td>Yellow Zone</td>\n",
       "      <td>MN13</td>\n",
       "      <td>both</td>\n",
       "    </tr>\n",
       "  </tbody>\n",
       "</table>\n",
       "</div>"
      ],
      "text/plain": [
       "       pickup_datetime  pickup_location_id dispatch_base affiliate_base  \\\n",
       "0  2015-05-17 09:47:00                 141        B02617         B02617   \n",
       "1  2015-05-17 09:47:00                  65        B02617         B02617   \n",
       "2  2015-05-17 09:47:00                 100        B02617         B02617   \n",
       "3  2015-05-17 09:47:00                  80        B02617         B02774   \n",
       "4  2015-05-17 09:47:00                  90        B02617         B02617   \n",
       "\n",
       "  Symbol  TIME        DATE  location_id    borough  \\\n",
       "0    U15     9  2015-05-17        141.0  Manhattan   \n",
       "1    U15     9  2015-05-17         65.0   Brooklyn   \n",
       "2    U15     9  2015-05-17        100.0  Manhattan   \n",
       "3    U15     9  2015-05-17         80.0   Brooklyn   \n",
       "4    U15     9  2015-05-17         90.0  Manhattan   \n",
       "\n",
       "                          zone service_zone nta_code _merge  \n",
       "0              Lenox Hill West  Yellow Zone     MN31   both  \n",
       "1  Downtown Brooklyn/MetroTech    Boro Zone     BK38   both  \n",
       "2             Garment District  Yellow Zone     MN13   both  \n",
       "3            East Williamsburg    Boro Zone     BK90   both  \n",
       "4                     Flatiron  Yellow Zone     MN13   both  "
      ]
     },
     "execution_count": 110,
     "metadata": {},
     "output_type": "execute_result"
    }
   ],
   "source": [
    "%%time\n",
    "sU15NTA = dfU15.merge(dfZones, left_on = 'pickup_location_id', right_on = 'location_id', how = 'left', indicator = True)\n",
    "#dfU15['location_id'] = dfU15.apply(lambda x:getNTA(x.pickup_location_id),axis=1)"
   ]
  },
  {
   "cell_type": "code",
   "execution_count": 164,
   "metadata": {
    "scrolled": true
   },
   "outputs": [
    {
     "data": {
      "text/html": [
       "<div>\n",
       "<style scoped>\n",
       "    .dataframe tbody tr th:only-of-type {\n",
       "        vertical-align: middle;\n",
       "    }\n",
       "\n",
       "    .dataframe tbody tr th {\n",
       "        vertical-align: top;\n",
       "    }\n",
       "\n",
       "    .dataframe thead th {\n",
       "        text-align: right;\n",
       "    }\n",
       "</style>\n",
       "<table border=\"1\" class=\"dataframe\">\n",
       "  <thead>\n",
       "    <tr style=\"text-align: right;\">\n",
       "      <th></th>\n",
       "      <th>pickup_datetime</th>\n",
       "      <th>pickup_location_id</th>\n",
       "      <th>dispatch_base</th>\n",
       "      <th>affiliate_base</th>\n",
       "      <th>Symbol</th>\n",
       "      <th>TIME</th>\n",
       "      <th>DATE</th>\n",
       "      <th>location_id</th>\n",
       "      <th>borough</th>\n",
       "      <th>zone</th>\n",
       "      <th>service_zone</th>\n",
       "      <th>nta_code</th>\n",
       "      <th>_merge</th>\n",
       "    </tr>\n",
       "  </thead>\n",
       "  <tbody>\n",
       "    <tr>\n",
       "      <td>0</td>\n",
       "      <td>2015-05-17 09:47:00</td>\n",
       "      <td>141</td>\n",
       "      <td>B02617</td>\n",
       "      <td>B02617</td>\n",
       "      <td>U15</td>\n",
       "      <td>9</td>\n",
       "      <td>2015-05-17</td>\n",
       "      <td>141.0</td>\n",
       "      <td>Manhattan</td>\n",
       "      <td>Lenox Hill West</td>\n",
       "      <td>Yellow Zone</td>\n",
       "      <td>MN31</td>\n",
       "      <td>both</td>\n",
       "    </tr>\n",
       "    <tr>\n",
       "      <td>1</td>\n",
       "      <td>2015-05-17 09:47:00</td>\n",
       "      <td>65</td>\n",
       "      <td>B02617</td>\n",
       "      <td>B02617</td>\n",
       "      <td>U15</td>\n",
       "      <td>9</td>\n",
       "      <td>2015-05-17</td>\n",
       "      <td>65.0</td>\n",
       "      <td>Brooklyn</td>\n",
       "      <td>Downtown Brooklyn/MetroTech</td>\n",
       "      <td>Boro Zone</td>\n",
       "      <td>BK38</td>\n",
       "      <td>both</td>\n",
       "    </tr>\n",
       "    <tr>\n",
       "      <td>2</td>\n",
       "      <td>2015-05-17 09:47:00</td>\n",
       "      <td>100</td>\n",
       "      <td>B02617</td>\n",
       "      <td>B02617</td>\n",
       "      <td>U15</td>\n",
       "      <td>9</td>\n",
       "      <td>2015-05-17</td>\n",
       "      <td>100.0</td>\n",
       "      <td>Manhattan</td>\n",
       "      <td>Garment District</td>\n",
       "      <td>Yellow Zone</td>\n",
       "      <td>MN13</td>\n",
       "      <td>both</td>\n",
       "    </tr>\n",
       "    <tr>\n",
       "      <td>3</td>\n",
       "      <td>2015-05-17 09:47:00</td>\n",
       "      <td>80</td>\n",
       "      <td>B02617</td>\n",
       "      <td>B02774</td>\n",
       "      <td>U15</td>\n",
       "      <td>9</td>\n",
       "      <td>2015-05-17</td>\n",
       "      <td>80.0</td>\n",
       "      <td>Brooklyn</td>\n",
       "      <td>East Williamsburg</td>\n",
       "      <td>Boro Zone</td>\n",
       "      <td>BK90</td>\n",
       "      <td>both</td>\n",
       "    </tr>\n",
       "    <tr>\n",
       "      <td>4</td>\n",
       "      <td>2015-05-17 09:47:00</td>\n",
       "      <td>90</td>\n",
       "      <td>B02617</td>\n",
       "      <td>B02617</td>\n",
       "      <td>U15</td>\n",
       "      <td>9</td>\n",
       "      <td>2015-05-17</td>\n",
       "      <td>90.0</td>\n",
       "      <td>Manhattan</td>\n",
       "      <td>Flatiron</td>\n",
       "      <td>Yellow Zone</td>\n",
       "      <td>MN13</td>\n",
       "      <td>both</td>\n",
       "    </tr>\n",
       "  </tbody>\n",
       "</table>\n",
       "</div>"
      ],
      "text/plain": [
       "       pickup_datetime  pickup_location_id dispatch_base affiliate_base  \\\n",
       "0  2015-05-17 09:47:00                 141        B02617         B02617   \n",
       "1  2015-05-17 09:47:00                  65        B02617         B02617   \n",
       "2  2015-05-17 09:47:00                 100        B02617         B02617   \n",
       "3  2015-05-17 09:47:00                  80        B02617         B02774   \n",
       "4  2015-05-17 09:47:00                  90        B02617         B02617   \n",
       "\n",
       "  Symbol  TIME        DATE  location_id    borough  \\\n",
       "0    U15     9  2015-05-17        141.0  Manhattan   \n",
       "1    U15     9  2015-05-17         65.0   Brooklyn   \n",
       "2    U15     9  2015-05-17        100.0  Manhattan   \n",
       "3    U15     9  2015-05-17         80.0   Brooklyn   \n",
       "4    U15     9  2015-05-17         90.0  Manhattan   \n",
       "\n",
       "                          zone service_zone nta_code _merge  \n",
       "0              Lenox Hill West  Yellow Zone     MN31   both  \n",
       "1  Downtown Brooklyn/MetroTech    Boro Zone     BK38   both  \n",
       "2             Garment District  Yellow Zone     MN13   both  \n",
       "3            East Williamsburg    Boro Zone     BK90   both  \n",
       "4                     Flatiron  Yellow Zone     MN13   both  "
      ]
     },
     "execution_count": 164,
     "metadata": {},
     "output_type": "execute_result"
    }
   ],
   "source": [
    "%%time\n",
    "dfU15NTA = pd.DataFrame(sU15NTA)\n",
    "dfU15NTA.head()"
   ]
  },
  {
   "cell_type": "code",
   "execution_count": 121,
   "metadata": {
    "scrolled": true
   },
   "outputs": [
    {
     "data": {
      "text/plain": [
       "geopandas.geodataframe.GeoDataFrame"
      ]
     },
     "execution_count": 121,
     "metadata": {},
     "output_type": "execute_result"
    }
   ],
   "source": [
    "type(dfU14NTA)"
   ]
  },
  {
   "cell_type": "code",
   "execution_count": 131,
   "metadata": {
    "scrolled": true
   },
   "outputs": [
    {
     "data": {
      "text/html": [
       "<div>\n",
       "<style scoped>\n",
       "    .dataframe tbody tr th:only-of-type {\n",
       "        vertical-align: middle;\n",
       "    }\n",
       "\n",
       "    .dataframe tbody tr th {\n",
       "        vertical-align: top;\n",
       "    }\n",
       "\n",
       "    .dataframe thead th {\n",
       "        text-align: right;\n",
       "    }\n",
       "</style>\n",
       "<table border=\"1\" class=\"dataframe\">\n",
       "  <thead>\n",
       "    <tr style=\"text-align: right;\">\n",
       "      <th></th>\n",
       "      <th>pickup_datetime</th>\n",
       "      <th>Symbol</th>\n",
       "      <th>TIME</th>\n",
       "      <th>DATE</th>\n",
       "      <th>location_id</th>\n",
       "    </tr>\n",
       "  </thead>\n",
       "  <tbody>\n",
       "    <tr>\n",
       "      <td>0</td>\n",
       "      <td>2014-04-01 00:11:00</td>\n",
       "      <td>U14</td>\n",
       "      <td>0</td>\n",
       "      <td>2014-04-01</td>\n",
       "      <td>NaN</td>\n",
       "    </tr>\n",
       "    <tr>\n",
       "      <td>1</td>\n",
       "      <td>2014-04-01 00:17:00</td>\n",
       "      <td>U14</td>\n",
       "      <td>0</td>\n",
       "      <td>2014-04-01</td>\n",
       "      <td>NaN</td>\n",
       "    </tr>\n",
       "    <tr>\n",
       "      <td>2</td>\n",
       "      <td>2014-04-01 00:21:00</td>\n",
       "      <td>U14</td>\n",
       "      <td>0</td>\n",
       "      <td>2014-04-01</td>\n",
       "      <td>MN22</td>\n",
       "    </tr>\n",
       "    <tr>\n",
       "      <td>3</td>\n",
       "      <td>2014-04-01 00:28:00</td>\n",
       "      <td>U14</td>\n",
       "      <td>0</td>\n",
       "      <td>2014-04-01</td>\n",
       "      <td>MN17</td>\n",
       "    </tr>\n",
       "    <tr>\n",
       "      <td>4</td>\n",
       "      <td>2014-04-01 00:33:00</td>\n",
       "      <td>U14</td>\n",
       "      <td>0</td>\n",
       "      <td>2014-04-01</td>\n",
       "      <td>MN19</td>\n",
       "    </tr>\n",
       "  </tbody>\n",
       "</table>\n",
       "</div>"
      ],
      "text/plain": [
       "      pickup_datetime Symbol  TIME        DATE location_id\n",
       "0 2014-04-01 00:11:00    U14     0  2014-04-01         NaN\n",
       "1 2014-04-01 00:17:00    U14     0  2014-04-01         NaN\n",
       "2 2014-04-01 00:21:00    U14     0  2014-04-01        MN22\n",
       "3 2014-04-01 00:28:00    U14     0  2014-04-01        MN17\n",
       "4 2014-04-01 00:33:00    U14     0  2014-04-01        MN19"
      ]
     },
     "execution_count": 131,
     "metadata": {},
     "output_type": "execute_result"
    }
   ],
   "source": [
    "%%time\n",
    "A = pd.DataFrame(dfU14NTA.drop(columns={'pickup_latitude','pickup_longitude','base','index_right','geometry'}))\n",
    "A.head()"
   ]
  },
  {
   "cell_type": "code",
   "execution_count": 136,
   "metadata": {
    "scrolled": true
   },
   "outputs": [
    {
     "data": {
      "text/html": [
       "<div>\n",
       "<style scoped>\n",
       "    .dataframe tbody tr th:only-of-type {\n",
       "        vertical-align: middle;\n",
       "    }\n",
       "\n",
       "    .dataframe tbody tr th {\n",
       "        vertical-align: top;\n",
       "    }\n",
       "\n",
       "    .dataframe thead th {\n",
       "        text-align: right;\n",
       "    }\n",
       "</style>\n",
       "<table border=\"1\" class=\"dataframe\">\n",
       "  <thead>\n",
       "    <tr style=\"text-align: right;\">\n",
       "      <th></th>\n",
       "      <th>pickup_datetime</th>\n",
       "      <th>Symbol</th>\n",
       "      <th>TIME</th>\n",
       "      <th>DATE</th>\n",
       "      <th>location_id</th>\n",
       "    </tr>\n",
       "  </thead>\n",
       "  <tbody>\n",
       "    <tr>\n",
       "      <td>0</td>\n",
       "      <td>2015-02-01 01:26:45</td>\n",
       "      <td>GCT</td>\n",
       "      <td>1</td>\n",
       "      <td>2015-02-01</td>\n",
       "      <td>MN09</td>\n",
       "    </tr>\n",
       "    <tr>\n",
       "      <td>1</td>\n",
       "      <td>2015-01-02 20:06:28</td>\n",
       "      <td>GCT</td>\n",
       "      <td>20</td>\n",
       "      <td>2015-01-02</td>\n",
       "      <td>BK90</td>\n",
       "    </tr>\n",
       "    <tr>\n",
       "      <td>2</td>\n",
       "      <td>2014-09-27 17:55:38</td>\n",
       "      <td>GCT</td>\n",
       "      <td>17</td>\n",
       "      <td>2014-09-27</td>\n",
       "      <td>BK73</td>\n",
       "    </tr>\n",
       "    <tr>\n",
       "      <td>3</td>\n",
       "      <td>2014-04-27 02:27:04</td>\n",
       "      <td>GCT</td>\n",
       "      <td>2</td>\n",
       "      <td>2014-04-27</td>\n",
       "      <td>BK73</td>\n",
       "    </tr>\n",
       "    <tr>\n",
       "      <td>4</td>\n",
       "      <td>2014-05-26 18:32:19</td>\n",
       "      <td>GCT</td>\n",
       "      <td>18</td>\n",
       "      <td>2014-05-26</td>\n",
       "      <td>BK61</td>\n",
       "    </tr>\n",
       "  </tbody>\n",
       "</table>\n",
       "</div>"
      ],
      "text/plain": [
       "       pickup_datetime Symbol  TIME        DATE location_id\n",
       "0  2015-02-01 01:26:45    GCT     1  2015-02-01        MN09\n",
       "1  2015-01-02 20:06:28    GCT    20  2015-01-02        BK90\n",
       "2  2014-09-27 17:55:38    GCT    17  2014-09-27        BK73\n",
       "3  2014-04-27 02:27:04    GCT     2  2014-04-27        BK73\n",
       "4  2014-05-26 18:32:19    GCT    18  2014-05-26        BK61"
      ]
     },
     "execution_count": 136,
     "metadata": {},
     "output_type": "execute_result"
    }
   ],
   "source": [
    "%%time\n",
    "B = pd.DataFrame(dfGCNTA.drop(columns={'dropoff_datetime','dropoff_longitude','dropoff_latitude','passenger_count','trip_distance','total_amount','pickup_latitude','pickup_longitude','index_right','geometry'}))\n",
    "B.head()"
   ]
  },
  {
   "cell_type": "code",
   "execution_count": 172,
   "metadata": {
    "scrolled": false
   },
   "outputs": [
    {
     "name": "stdout",
     "output_type": "stream",
     "text": [
      "CPU times: user 623 ms, sys: 2.85 s, total: 3.47 s\n",
      "Wall time: 7.49 s\n"
     ]
    },
    {
     "data": {
      "text/html": [
       "<div>\n",
       "<style scoped>\n",
       "    .dataframe tbody tr th:only-of-type {\n",
       "        vertical-align: middle;\n",
       "    }\n",
       "\n",
       "    .dataframe tbody tr th {\n",
       "        vertical-align: top;\n",
       "    }\n",
       "\n",
       "    .dataframe thead th {\n",
       "        text-align: right;\n",
       "    }\n",
       "</style>\n",
       "<table border=\"1\" class=\"dataframe\">\n",
       "  <thead>\n",
       "    <tr style=\"text-align: right;\">\n",
       "      <th></th>\n",
       "      <th>pickup_datetime</th>\n",
       "      <th>Symbol</th>\n",
       "      <th>TIME</th>\n",
       "      <th>DATE</th>\n",
       "      <th>location_id</th>\n",
       "    </tr>\n",
       "  </thead>\n",
       "  <tbody>\n",
       "    <tr>\n",
       "      <td>0</td>\n",
       "      <td>2014-04-03 18:28:10</td>\n",
       "      <td>YCT</td>\n",
       "      <td>18</td>\n",
       "      <td>2014-04-03</td>\n",
       "      <td>NaN</td>\n",
       "    </tr>\n",
       "    <tr>\n",
       "      <td>1</td>\n",
       "      <td>2014-04-16 15:42:00</td>\n",
       "      <td>YCT</td>\n",
       "      <td>15</td>\n",
       "      <td>2014-04-16</td>\n",
       "      <td>MN20</td>\n",
       "    </tr>\n",
       "    <tr>\n",
       "      <td>2</td>\n",
       "      <td>2014-04-13 18:04:00</td>\n",
       "      <td>YCT</td>\n",
       "      <td>18</td>\n",
       "      <td>2014-04-13</td>\n",
       "      <td>NaN</td>\n",
       "    </tr>\n",
       "    <tr>\n",
       "      <td>3</td>\n",
       "      <td>2014-05-21 19:33:00</td>\n",
       "      <td>YCT</td>\n",
       "      <td>19</td>\n",
       "      <td>2014-05-21</td>\n",
       "      <td>MN17</td>\n",
       "    </tr>\n",
       "    <tr>\n",
       "      <td>4</td>\n",
       "      <td>2014-05-30 16:28:00</td>\n",
       "      <td>YCT</td>\n",
       "      <td>16</td>\n",
       "      <td>2014-05-30</td>\n",
       "      <td>MN19</td>\n",
       "    </tr>\n",
       "  </tbody>\n",
       "</table>\n",
       "</div>"
      ],
      "text/plain": [
       "       pickup_datetime Symbol  TIME        DATE location_id\n",
       "0  2014-04-03 18:28:10    YCT    18  2014-04-03         NaN\n",
       "1  2014-04-16 15:42:00    YCT    15  2014-04-16        MN20\n",
       "2  2014-04-13 18:04:00    YCT    18  2014-04-13         NaN\n",
       "3  2014-05-21 19:33:00    YCT    19  2014-05-21        MN17\n",
       "4  2014-05-30 16:28:00    YCT    16  2014-05-30        MN19"
      ]
     },
     "execution_count": 172,
     "metadata": {},
     "output_type": "execute_result"
    }
   ],
   "source": [
    "%%time\n",
    "C = pd.DataFrame(dfYCNTA.drop(columns={'dropoff_datetime','dropoff_longitude','dropoff_latitude','passenger_count','trip_distance','total_amount','pickup_latitude','pickup_longitude','index_right','geometry'}))\n",
    "C.head()"
   ]
  },
  {
   "cell_type": "code",
   "execution_count": 160,
   "metadata": {
    "scrolled": true
   },
   "outputs": [
    {
     "name": "stdout",
     "output_type": "stream",
     "text": [
      "CPU times: user 2.63 s, sys: 742 ms, total: 3.37 s\n",
      "Wall time: 3.69 s\n"
     ]
    },
    {
     "data": {
      "text/html": [
       "<div>\n",
       "<style scoped>\n",
       "    .dataframe tbody tr th:only-of-type {\n",
       "        vertical-align: middle;\n",
       "    }\n",
       "\n",
       "    .dataframe tbody tr th {\n",
       "        vertical-align: top;\n",
       "    }\n",
       "\n",
       "    .dataframe thead th {\n",
       "        text-align: right;\n",
       "    }\n",
       "</style>\n",
       "<table border=\"1\" class=\"dataframe\">\n",
       "  <thead>\n",
       "    <tr style=\"text-align: right;\">\n",
       "      <th></th>\n",
       "      <th>pickup_datetime</th>\n",
       "      <th>Symbol</th>\n",
       "      <th>TIME</th>\n",
       "      <th>DATE</th>\n",
       "      <th>location_id</th>\n",
       "    </tr>\n",
       "  </thead>\n",
       "  <tbody>\n",
       "    <tr>\n",
       "      <td>0</td>\n",
       "      <td>2015-05-17 09:47:00</td>\n",
       "      <td>U15</td>\n",
       "      <td>9</td>\n",
       "      <td>2015-05-17</td>\n",
       "      <td>MN31</td>\n",
       "    </tr>\n",
       "    <tr>\n",
       "      <td>1</td>\n",
       "      <td>2015-05-17 09:47:00</td>\n",
       "      <td>U15</td>\n",
       "      <td>9</td>\n",
       "      <td>2015-05-17</td>\n",
       "      <td>BK38</td>\n",
       "    </tr>\n",
       "    <tr>\n",
       "      <td>2</td>\n",
       "      <td>2015-05-17 09:47:00</td>\n",
       "      <td>U15</td>\n",
       "      <td>9</td>\n",
       "      <td>2015-05-17</td>\n",
       "      <td>MN13</td>\n",
       "    </tr>\n",
       "    <tr>\n",
       "      <td>3</td>\n",
       "      <td>2015-05-17 09:47:00</td>\n",
       "      <td>U15</td>\n",
       "      <td>9</td>\n",
       "      <td>2015-05-17</td>\n",
       "      <td>BK90</td>\n",
       "    </tr>\n",
       "    <tr>\n",
       "      <td>4</td>\n",
       "      <td>2015-05-17 09:47:00</td>\n",
       "      <td>U15</td>\n",
       "      <td>9</td>\n",
       "      <td>2015-05-17</td>\n",
       "      <td>MN13</td>\n",
       "    </tr>\n",
       "  </tbody>\n",
       "</table>\n",
       "</div>"
      ],
      "text/plain": [
       "       pickup_datetime Symbol  TIME        DATE location_id\n",
       "0  2015-05-17 09:47:00    U15     9  2015-05-17        MN31\n",
       "1  2015-05-17 09:47:00    U15     9  2015-05-17        BK38\n",
       "2  2015-05-17 09:47:00    U15     9  2015-05-17        MN13\n",
       "3  2015-05-17 09:47:00    U15     9  2015-05-17        BK90\n",
       "4  2015-05-17 09:47:00    U15     9  2015-05-17        MN13"
      ]
     },
     "execution_count": 160,
     "metadata": {},
     "output_type": "execute_result"
    }
   ],
   "source": [
    "%%time\n",
    "D = pd.DataFrame(dfU15NTA.drop(columns={'pickup_location_id','dispatch_base','affiliate_base','location_id','borough','zone','service_zone','_merge'}))\n",
    "D.rename(columns={\"nta_code\":\"location_id\"},inplace=True)\n",
    "D.head()"
   ]
  },
  {
   "cell_type": "code",
   "execution_count": 175,
   "metadata": {
    "scrolled": false
   },
   "outputs": [
    {
     "name": "stdout",
     "output_type": "stream",
     "text": [
      "pickup_datetime          0\n",
      "Symbol                   0\n",
      "TIME                     0\n",
      "DATE                     0\n",
      "location_id        2274214\n",
      "dtype: int64\n",
      "CPU times: user 24.4 s, sys: 3.57 s, total: 28 s\n",
      "Wall time: 28.7 s\n"
     ]
    }
   ],
   "source": [
    "%%time\n",
    "lstDF = [A,B,C,D]\n",
    "dfCarTrips=pd.concat(lstDF,ignore_index=True, sort=False)\n",
    "print(dfCarTrips.isna().sum())"
   ]
  },
  {
   "cell_type": "code",
   "execution_count": 201,
   "metadata": {},
   "outputs": [
    {
     "name": "stdout",
     "output_type": "stream",
     "text": [
      "CPU times: user 4.11 s, sys: 1.51 s, total: 5.62 s\n",
      "Wall time: 5.77 s\n"
     ]
    }
   ],
   "source": [
    "%%time\n",
    "dfCarTrips.rename(columns={\"location_id\":\"nta_code\"},inplace=True)"
   ]
  },
  {
   "cell_type": "code",
   "execution_count": 202,
   "metadata": {
    "scrolled": true
   },
   "outputs": [
    {
     "name": "stdout",
     "output_type": "stream",
     "text": [
      "pickup_datetime    0\n",
      "Symbol             0\n",
      "TIME               0\n",
      "DATE               0\n",
      "nta_code           0\n",
      "dtype: int64\n",
      "CPU times: user 14.4 s, sys: 2.11 s, total: 16.5 s\n",
      "Wall time: 19.7 s\n"
     ]
    }
   ],
   "source": [
    "%%time\n",
    "dfCarTrips.dropna(inplace=True)\n",
    "print(dfCarTrips.isna().sum())"
   ]
  },
  {
   "cell_type": "code",
   "execution_count": 203,
   "metadata": {
    "scrolled": true
   },
   "outputs": [
    {
     "name": "stdout",
     "output_type": "stream",
     "text": [
      "CPU times: user 1.61 ms, sys: 3.27 ms, total: 4.88 ms\n",
      "Wall time: 12.2 ms\n"
     ]
    },
    {
     "data": {
      "text/plain": [
       "<pandas.core.groupby.generic.DataFrameGroupBy object at 0x1c9a193850>"
      ]
     },
     "execution_count": 203,
     "metadata": {},
     "output_type": "execute_result"
    }
   ],
   "source": [
    "%%time\n",
    "dfCarTrips.groupby(['Symbol','nta_code','DATE','HOUR'])"
   ]
  },
  {
   "cell_type": "code",
   "execution_count": 204,
   "metadata": {
    "scrolled": true
   },
   "outputs": [
    {
     "name": "stdout",
     "output_type": "stream",
     "text": [
      "CPU times: user 20.7 s, sys: 31.8 s, total: 52.5 s\n",
      "Wall time: 1min 17s\n"
     ]
    },
    {
     "data": {
      "text/html": [
       "<div>\n",
       "<style scoped>\n",
       "    .dataframe tbody tr th:only-of-type {\n",
       "        vertical-align: middle;\n",
       "    }\n",
       "\n",
       "    .dataframe tbody tr th {\n",
       "        vertical-align: top;\n",
       "    }\n",
       "\n",
       "    .dataframe thead th {\n",
       "        text-align: right;\n",
       "    }\n",
       "</style>\n",
       "<table border=\"1\" class=\"dataframe\">\n",
       "  <thead>\n",
       "    <tr style=\"text-align: right;\">\n",
       "      <th></th>\n",
       "      <th>pickup_datetime</th>\n",
       "      <th>Symbol</th>\n",
       "      <th>TIME</th>\n",
       "      <th>DATE</th>\n",
       "      <th>nta_code</th>\n",
       "      <th>nta_name</th>\n",
       "      <th>borough</th>\n",
       "      <th>population</th>\n",
       "      <th>under_5_years</th>\n",
       "      <th>5-9_years</th>\n",
       "      <th>...</th>\n",
       "      <th>15000_to_24999</th>\n",
       "      <th>25000_to_34999</th>\n",
       "      <th>35000_to_49999</th>\n",
       "      <th>50000_to_74999</th>\n",
       "      <th>75000_to_99999</th>\n",
       "      <th>100000_to_149999</th>\n",
       "      <th>150000_to_199999</th>\n",
       "      <th>200000_or_more</th>\n",
       "      <th>median_income</th>\n",
       "      <th>mean_income</th>\n",
       "    </tr>\n",
       "  </thead>\n",
       "  <tbody>\n",
       "    <tr>\n",
       "      <td>0</td>\n",
       "      <td>2014-04-01 00:21:00</td>\n",
       "      <td>U14</td>\n",
       "      <td>0</td>\n",
       "      <td>2014-04-01</td>\n",
       "      <td>MN22</td>\n",
       "      <td>East Village</td>\n",
       "      <td>Manhattan</td>\n",
       "      <td>44136.0</td>\n",
       "      <td>862.0</td>\n",
       "      <td>617.0</td>\n",
       "      <td>...</td>\n",
       "      <td>2072.0</td>\n",
       "      <td>1524.0</td>\n",
       "      <td>1702.0</td>\n",
       "      <td>3160.0</td>\n",
       "      <td>3057.0</td>\n",
       "      <td>3201.0</td>\n",
       "      <td>2155.0</td>\n",
       "      <td>2478.0</td>\n",
       "      <td>72665.0</td>\n",
       "      <td>100130.0</td>\n",
       "    </tr>\n",
       "    <tr>\n",
       "      <td>1</td>\n",
       "      <td>2014-04-01 00:28:00</td>\n",
       "      <td>U14</td>\n",
       "      <td>0</td>\n",
       "      <td>2014-04-01</td>\n",
       "      <td>MN17</td>\n",
       "      <td>Midtown-Midtown South</td>\n",
       "      <td>Manhattan</td>\n",
       "      <td>28630.0</td>\n",
       "      <td>819.0</td>\n",
       "      <td>408.0</td>\n",
       "      <td>...</td>\n",
       "      <td>927.0</td>\n",
       "      <td>766.0</td>\n",
       "      <td>1165.0</td>\n",
       "      <td>1107.0</td>\n",
       "      <td>1119.0</td>\n",
       "      <td>2390.0</td>\n",
       "      <td>1778.0</td>\n",
       "      <td>4513.0</td>\n",
       "      <td>114491.0</td>\n",
       "      <td>184315.0</td>\n",
       "    </tr>\n",
       "    <tr>\n",
       "      <td>2</td>\n",
       "      <td>2014-04-01 00:33:00</td>\n",
       "      <td>U14</td>\n",
       "      <td>0</td>\n",
       "      <td>2014-04-01</td>\n",
       "      <td>MN19</td>\n",
       "      <td>Turtle Bay-East Midtown</td>\n",
       "      <td>Manhattan</td>\n",
       "      <td>51231.0</td>\n",
       "      <td>1849.0</td>\n",
       "      <td>1076.0</td>\n",
       "      <td>...</td>\n",
       "      <td>1664.0</td>\n",
       "      <td>932.0</td>\n",
       "      <td>1975.0</td>\n",
       "      <td>3140.0</td>\n",
       "      <td>3345.0</td>\n",
       "      <td>5214.0</td>\n",
       "      <td>2669.0</td>\n",
       "      <td>8156.0</td>\n",
       "      <td>113998.0</td>\n",
       "      <td>196721.0</td>\n",
       "    </tr>\n",
       "    <tr>\n",
       "      <td>3</td>\n",
       "      <td>2014-04-01 00:39:00</td>\n",
       "      <td>U14</td>\n",
       "      <td>0</td>\n",
       "      <td>2014-04-01</td>\n",
       "      <td>MN27</td>\n",
       "      <td>Chinatown</td>\n",
       "      <td>Manhattan</td>\n",
       "      <td>47844.0</td>\n",
       "      <td>1807.0</td>\n",
       "      <td>1802.0</td>\n",
       "      <td>...</td>\n",
       "      <td>2849.0</td>\n",
       "      <td>1399.0</td>\n",
       "      <td>1841.0</td>\n",
       "      <td>2430.0</td>\n",
       "      <td>1661.0</td>\n",
       "      <td>1585.0</td>\n",
       "      <td>630.0</td>\n",
       "      <td>940.0</td>\n",
       "      <td>35908.0</td>\n",
       "      <td>62270.0</td>\n",
       "    </tr>\n",
       "    <tr>\n",
       "      <td>4</td>\n",
       "      <td>2014-04-01 00:45:00</td>\n",
       "      <td>U14</td>\n",
       "      <td>0</td>\n",
       "      <td>2014-04-01</td>\n",
       "      <td>MN17</td>\n",
       "      <td>Midtown-Midtown South</td>\n",
       "      <td>Manhattan</td>\n",
       "      <td>28630.0</td>\n",
       "      <td>819.0</td>\n",
       "      <td>408.0</td>\n",
       "      <td>...</td>\n",
       "      <td>927.0</td>\n",
       "      <td>766.0</td>\n",
       "      <td>1165.0</td>\n",
       "      <td>1107.0</td>\n",
       "      <td>1119.0</td>\n",
       "      <td>2390.0</td>\n",
       "      <td>1778.0</td>\n",
       "      <td>4513.0</td>\n",
       "      <td>114491.0</td>\n",
       "      <td>184315.0</td>\n",
       "    </tr>\n",
       "  </tbody>\n",
       "</table>\n",
       "<p>5 rows × 37 columns</p>\n",
       "</div>"
      ],
      "text/plain": [
       "       pickup_datetime Symbol  TIME        DATE nta_code  \\\n",
       "0  2014-04-01 00:21:00    U14     0  2014-04-01     MN22   \n",
       "1  2014-04-01 00:28:00    U14     0  2014-04-01     MN17   \n",
       "2  2014-04-01 00:33:00    U14     0  2014-04-01     MN19   \n",
       "3  2014-04-01 00:39:00    U14     0  2014-04-01     MN27   \n",
       "4  2014-04-01 00:45:00    U14     0  2014-04-01     MN17   \n",
       "\n",
       "                  nta_name    borough  population  under_5_years  5-9_years  \\\n",
       "0             East Village  Manhattan     44136.0          862.0      617.0   \n",
       "1    Midtown-Midtown South  Manhattan     28630.0          819.0      408.0   \n",
       "2  Turtle Bay-East Midtown  Manhattan     51231.0         1849.0     1076.0   \n",
       "3                Chinatown  Manhattan     47844.0         1807.0     1802.0   \n",
       "4    Midtown-Midtown South  Manhattan     28630.0          819.0      408.0   \n",
       "\n",
       "   ...  15000_to_24999  25000_to_34999  35000_to_49999  50000_to_74999  \\\n",
       "0  ...          2072.0          1524.0          1702.0          3160.0   \n",
       "1  ...           927.0           766.0          1165.0          1107.0   \n",
       "2  ...          1664.0           932.0          1975.0          3140.0   \n",
       "3  ...          2849.0          1399.0          1841.0          2430.0   \n",
       "4  ...           927.0           766.0          1165.0          1107.0   \n",
       "\n",
       "   75000_to_99999  100000_to_149999  150000_to_199999  200000_or_more  \\\n",
       "0          3057.0            3201.0            2155.0          2478.0   \n",
       "1          1119.0            2390.0            1778.0          4513.0   \n",
       "2          3345.0            5214.0            2669.0          8156.0   \n",
       "3          1661.0            1585.0             630.0           940.0   \n",
       "4          1119.0            2390.0            1778.0          4513.0   \n",
       "\n",
       "   median_income  mean_income  \n",
       "0        72665.0     100130.0  \n",
       "1       114491.0     184315.0  \n",
       "2       113998.0     196721.0  \n",
       "3        35908.0      62270.0  \n",
       "4       114491.0     184315.0  \n",
       "\n",
       "[5 rows x 37 columns]"
      ]
     },
     "execution_count": 204,
     "metadata": {},
     "output_type": "execute_result"
    }
   ],
   "source": [
    "%%time\n",
    "dfCarsVSDemo = dfCarTrips.merge(dfDemo, left_on = 'nta_code', right_on = 'nta_code', how = 'left')\n",
    "dfCarsVSDemo.head()"
   ]
  },
  {
   "cell_type": "code",
   "execution_count": 246,
   "metadata": {},
   "outputs": [
    {
     "data": {
      "text/plain": [
       "Index(['pickup_datetime', 'Symbol', 'TIME', 'DATE', 'nta_code', 'nta_name',\n",
       "       'borough', 'population', 'under_5_years', '5-9_years', '10-14_years',\n",
       "       '15-19_years', '20-24_years', '25-29_years', '30-34_years',\n",
       "       '35-39_years', '40-44_years', '45-49_years', '50-54_years',\n",
       "       '55-59_years', '60-64_years', 'over_65_years', 'median_age',\n",
       "       'people_per_acre', 'households', 'less_than_10,000', '10000_to_14999',\n",
       "       '15000_to_24999', '25000_to_34999', '35000_to_49999', '50000_to_74999',\n",
       "       '75000_to_99999', '100000_to_149999', '150000_to_199999',\n",
       "       '200000_or_more', 'median_income', 'mean_income'],\n",
       "      dtype='object')"
      ]
     },
     "execution_count": 246,
     "metadata": {},
     "output_type": "execute_result"
    }
   ],
   "source": [
    "dfCarsVSDemo.columns"
   ]
  },
  {
   "cell_type": "code",
   "execution_count": 245,
   "metadata": {},
   "outputs": [
    {
     "name": "stdout",
     "output_type": "stream",
     "text": [
      "CPU times: user 12 s, sys: 14.5 s, total: 26.4 s\n",
      "Wall time: 30.1 s\n"
     ]
    },
    {
     "data": {
      "text/plain": [
       "pickup_datetime          0\n",
       "Symbol                   0\n",
       "TIME                     0\n",
       "DATE                     0\n",
       "nta_code                 0\n",
       "nta_name            611739\n",
       "borough             611739\n",
       "population          611739\n",
       "under_5_years       611739\n",
       "5-9_years           611739\n",
       "10-14_years         611739\n",
       "15-19_years         611739\n",
       "20-24_years         611739\n",
       "25-29_years         611739\n",
       "30-34_years         611739\n",
       "35-39_years         611739\n",
       "40-44_years         611739\n",
       "45-49_years         611739\n",
       "50-54_years         611739\n",
       "55-59_years         611739\n",
       "60-64_years         611739\n",
       "over_65_years       611739\n",
       "median_age          611739\n",
       "people_per_acre     611739\n",
       "households          611739\n",
       "less_than_10,000    611739\n",
       "10000_to_14999      611739\n",
       "15000_to_24999      611739\n",
       "25000_to_34999      611739\n",
       "35000_to_49999      611739\n",
       "50000_to_74999      611739\n",
       "75000_to_99999      611739\n",
       "100000_to_149999    611739\n",
       "150000_to_199999    611739\n",
       "200000_or_more      611739\n",
       "median_income       611739\n",
       "mean_income         611739\n",
       "dtype: int64"
      ]
     },
     "execution_count": 245,
     "metadata": {},
     "output_type": "execute_result"
    }
   ],
   "source": [
    "%%time\n",
    "dfCarsVSDemo.isna().sum()"
   ]
  },
  {
   "cell_type": "code",
   "execution_count": 240,
   "metadata": {
    "scrolled": true
   },
   "outputs": [
    {
     "name": "stdout",
     "output_type": "stream",
     "text": [
      "CPU times: user 1min 1s, sys: 29.9 s, total: 1min 31s\n",
      "Wall time: 1min 44s\n"
     ]
    }
   ],
   "source": [
    "%%time\n",
    "dfCorr = dfCarsVSDemo.corr()"
   ]
  },
  {
   "cell_type": "code",
   "execution_count": 242,
   "metadata": {
    "scrolled": true
   },
   "outputs": [
    {
     "data": {
      "text/plain": [
       "Index(['TIME', 'population', 'under_5_years', '5-9_years', '10-14_years',\n",
       "       '15-19_years', '20-24_years', '25-29_years', '30-34_years',\n",
       "       '35-39_years', '40-44_years', '45-49_years', '50-54_years',\n",
       "       '55-59_years', '60-64_years', 'over_65_years', 'median_age',\n",
       "       'people_per_acre', 'households', 'less_than_10,000', '10000_to_14999',\n",
       "       '15000_to_24999', '25000_to_34999', '35000_to_49999', '50000_to_74999',\n",
       "       '75000_to_99999', '100000_to_149999', '150000_to_199999',\n",
       "       '200000_or_more', 'median_income', 'mean_income'],\n",
       "      dtype='object')"
      ]
     },
     "execution_count": 242,
     "metadata": {},
     "output_type": "execute_result"
    }
   ],
   "source": [
    "dfCorr.columns"
   ]
  },
  {
   "cell_type": "code",
   "execution_count": 241,
   "metadata": {},
   "outputs": [
    {
     "name": "stdout",
     "output_type": "stream",
     "text": [
      "CPU times: user 206 ms, sys: 280 ms, total: 486 ms\n",
      "Wall time: 972 ms\n"
     ]
    },
    {
     "data": {
      "text/plain": [
       "Text(0.5, 1, 'Correlation Matrix')"
      ]
     },
     "execution_count": 241,
     "metadata": {},
     "output_type": "execute_result"
    },
    {
     "data": {
      "image/png": "[encoded data removed]",
      "text/plain": [
       "<Figure size 432x288 with 2 Axes>"
      ]
     },
     "metadata": {
      "needs_background": "light"
     },
     "output_type": "display_data"
    }
   ],
   "source": [
    "%%time\n",
    "sns.heatmap(dfCorr,cmap=sns.diverging_palette(220, 10, as_cmap=True))\n",
    "plt.title(\"Correlation Matrix\")"
   ]
  },
  {
   "cell_type": "code",
   "execution_count": 226,
   "metadata": {
    "scrolled": true
   },
   "outputs": [
    {
     "name": "stdout",
     "output_type": "stream",
     "text": [
      "CPU times: user 667 µs, sys: 9 µs, total: 676 µs\n",
      "Wall time: 684 µs\n"
     ]
    },
    {
     "data": {
      "text/plain": [
       "array(['JFK', 'LGA', 'Central Park'], dtype=object)"
      ]
     },
     "execution_count": 226,
     "metadata": {},
     "output_type": "execute_result"
    }
   ],
   "source": [
    "%%time\n",
    "dfWeather['location'].unique()"
   ]
  },
  {
   "cell_type": "code",
   "execution_count": 229,
   "metadata": {},
   "outputs": [],
   "source": [
    "dfWeather['dateS'] = pd.DatetimeIndex(dfWeather['date']).date"
   ]
  },
  {
   "cell_type": "code",
   "execution_count": 231,
   "metadata": {},
   "outputs": [
    {
     "name": "stdout",
     "output_type": "stream",
     "text": [
      "CPU times: user 591 µs, sys: 10 µs, total: 601 µs\n",
      "Wall time: 650 µs\n"
     ]
    },
    {
     "data": {
      "text/plain": [
       "datetime.date(2014, 1, 1)"
      ]
     },
     "execution_count": 231,
     "metadata": {},
     "output_type": "execute_result"
    }
   ],
   "source": [
    "%%time\n",
    "dfWeather['dateS'].min()"
   ]
  },
  {
   "cell_type": "code",
   "execution_count": 237,
   "metadata": {},
   "outputs": [
    {
     "name": "stdout",
     "output_type": "stream",
     "text": [
      "CPU times: user 782 µs, sys: 29 µs, total: 811 µs\n",
      "Wall time: 961 µs\n"
     ]
    },
    {
     "data": {
      "text/plain": [
       "datetime.date(2015, 12, 31)"
      ]
     },
     "execution_count": 237,
     "metadata": {},
     "output_type": "execute_result"
    }
   ],
   "source": [
    "%%time\n",
    "dfWeather['dateS'].max()"
   ]
  },
  {
   "cell_type": "code",
   "execution_count": 238,
   "metadata": {},
   "outputs": [
    {
     "name": "stdout",
     "output_type": "stream",
     "text": [
      "CPU times: user 1.61 ms, sys: 504 µs, total: 2.11 ms\n",
      "Wall time: 2.71 ms\n"
     ]
    },
    {
     "data": {
      "text/html": [
       "<div>\n",
       "<style scoped>\n",
       "    .dataframe tbody tr th:only-of-type {\n",
       "        vertical-align: middle;\n",
       "    }\n",
       "\n",
       "    .dataframe tbody tr th {\n",
       "        vertical-align: top;\n",
       "    }\n",
       "\n",
       "    .dataframe thead th {\n",
       "        text-align: right;\n",
       "    }\n",
       "</style>\n",
       "<table border=\"1\" class=\"dataframe\">\n",
       "  <thead>\n",
       "    <tr style=\"text-align: right;\">\n",
       "      <th></th>\n",
       "      <th>date</th>\n",
       "      <th>max_temp</th>\n",
       "      <th>min_temp</th>\n",
       "      <th>avg_temp</th>\n",
       "      <th>precipitation</th>\n",
       "      <th>snowfall</th>\n",
       "      <th>snow_depth</th>\n",
       "      <th>location</th>\n",
       "      <th>latitude</th>\n",
       "      <th>longitude</th>\n",
       "      <th>dateS</th>\n",
       "    </tr>\n",
       "  </thead>\n",
       "  <tbody>\n",
       "    <tr>\n",
       "      <td>729</td>\n",
       "      <td>12/31/15</td>\n",
       "      <td>52</td>\n",
       "      <td>43</td>\n",
       "      <td>47.5</td>\n",
       "      <td>0.06</td>\n",
       "      <td>0</td>\n",
       "      <td>0</td>\n",
       "      <td>JFK</td>\n",
       "      <td>40.647490</td>\n",
       "      <td>-73.779982</td>\n",
       "      <td>2015-12-31</td>\n",
       "    </tr>\n",
       "    <tr>\n",
       "      <td>1459</td>\n",
       "      <td>12/31/15</td>\n",
       "      <td>50</td>\n",
       "      <td>43</td>\n",
       "      <td>46.5</td>\n",
       "      <td>0.03</td>\n",
       "      <td>0</td>\n",
       "      <td>0</td>\n",
       "      <td>LGA</td>\n",
       "      <td>40.776927</td>\n",
       "      <td>-73.873966</td>\n",
       "      <td>2015-12-31</td>\n",
       "    </tr>\n",
       "    <tr>\n",
       "      <td>2189</td>\n",
       "      <td>12/31/15</td>\n",
       "      <td>48</td>\n",
       "      <td>42</td>\n",
       "      <td>45.0</td>\n",
       "      <td>0.03</td>\n",
       "      <td>0</td>\n",
       "      <td>0</td>\n",
       "      <td>Central Park</td>\n",
       "      <td>40.771133</td>\n",
       "      <td>-73.974187</td>\n",
       "      <td>2015-12-31</td>\n",
       "    </tr>\n",
       "  </tbody>\n",
       "</table>\n",
       "</div>"
      ],
      "text/plain": [
       "          date  max_temp  min_temp  avg_temp precipitation snowfall  \\\n",
       "729   12/31/15        52        43      47.5          0.06        0   \n",
       "1459  12/31/15        50        43      46.5          0.03        0   \n",
       "2189  12/31/15        48        42      45.0          0.03        0   \n",
       "\n",
       "     snow_depth      location   latitude  longitude       dateS  \n",
       "729           0           JFK  40.647490 -73.779982  2015-12-31  \n",
       "1459          0           LGA  40.776927 -73.873966  2015-12-31  \n",
       "2189          0  Central Park  40.771133 -73.974187  2015-12-31  "
      ]
     },
     "execution_count": 238,
     "metadata": {},
     "output_type": "execute_result"
    }
   ],
   "source": [
    "%%time\n",
    "dfWeather[dfWeather['date']=='12/31/15']"
   ]
  },
  {
   "cell_type": "code",
   "execution_count": 189,
   "metadata": {
    "scrolled": true
   },
   "outputs": [
    {
     "data": {
      "text/html": [
       "<div>\n",
       "<style scoped>\n",
       "    .dataframe tbody tr th:only-of-type {\n",
       "        vertical-align: middle;\n",
       "    }\n",
       "\n",
       "    .dataframe tbody tr th {\n",
       "        vertical-align: top;\n",
       "    }\n",
       "\n",
       "    .dataframe thead th {\n",
       "        text-align: right;\n",
       "    }\n",
       "</style>\n",
       "<table border=\"1\" class=\"dataframe\">\n",
       "  <thead>\n",
       "    <tr style=\"text-align: right;\">\n",
       "      <th></th>\n",
       "      <th>location_id</th>\n",
       "      <th>borough</th>\n",
       "      <th>zone</th>\n",
       "      <th>service_zone</th>\n",
       "      <th>nta_code</th>\n",
       "    </tr>\n",
       "  </thead>\n",
       "  <tbody>\n",
       "    <tr>\n",
       "      <td>0</td>\n",
       "      <td>1</td>\n",
       "      <td>EWR</td>\n",
       "      <td>Newark Airport</td>\n",
       "      <td>EWR</td>\n",
       "      <td>NJ01</td>\n",
       "    </tr>\n",
       "    <tr>\n",
       "      <td>1</td>\n",
       "      <td>2</td>\n",
       "      <td>Queens</td>\n",
       "      <td>Jamaica Bay</td>\n",
       "      <td>Boro Zone</td>\n",
       "      <td>QN61</td>\n",
       "    </tr>\n",
       "    <tr>\n",
       "      <td>2</td>\n",
       "      <td>3</td>\n",
       "      <td>Bronx</td>\n",
       "      <td>Allerton/Pelham Gardens</td>\n",
       "      <td>Boro Zone</td>\n",
       "      <td>BX31</td>\n",
       "    </tr>\n",
       "    <tr>\n",
       "      <td>3</td>\n",
       "      <td>4</td>\n",
       "      <td>Manhattan</td>\n",
       "      <td>Alphabet City</td>\n",
       "      <td>Yellow Zone</td>\n",
       "      <td>MN22</td>\n",
       "    </tr>\n",
       "    <tr>\n",
       "      <td>4</td>\n",
       "      <td>5</td>\n",
       "      <td>Staten Island</td>\n",
       "      <td>Arden Heights</td>\n",
       "      <td>Boro Zone</td>\n",
       "      <td>SI48</td>\n",
       "    </tr>\n",
       "  </tbody>\n",
       "</table>\n",
       "</div>"
      ],
      "text/plain": [
       "   location_id        borough                     zone service_zone nta_code\n",
       "0            1            EWR           Newark Airport          EWR     NJ01\n",
       "1            2         Queens              Jamaica Bay    Boro Zone     QN61\n",
       "2            3          Bronx  Allerton/Pelham Gardens    Boro Zone     BX31\n",
       "3            4      Manhattan            Alphabet City  Yellow Zone     MN22\n",
       "4            5  Staten Island            Arden Heights    Boro Zone     SI48"
      ]
     },
     "execution_count": 189,
     "metadata": {},
     "output_type": "execute_result"
    }
   ],
   "source": [
    "dfZones.head()"
   ]
  },
  {
   "cell_type": "markdown",
   "metadata": {},
   "source": [
    "**MTA data**"
   ]
  },
  {
   "cell_type": "code",
   "execution_count": null,
   "metadata": {},
   "outputs": [],
   "source": [
    "#print(dfMTA.info())"
   ]
  },
  {
   "cell_type": "code",
   "execution_count": null,
   "metadata": {},
   "outputs": [],
   "source": [
    "#print(dfMTA.describe())"
   ]
  },
  {
   "cell_type": "code",
   "execution_count": null,
   "metadata": {},
   "outputs": [],
   "source": [
    "#print(\"null values in MTA data: \\n \")\n",
    "#print(dfMTA.isna().sum())"
   ]
  },
  {
   "cell_type": "code",
   "execution_count": null,
   "metadata": {},
   "outputs": [],
   "source": [
    "#%%time\n",
    "#sns.stripplot(x=dfMTA['new_entries'], color='black')\n",
    "#plt.xlabel('new_entries', fontsize=14)\n",
    "#plt.show()"
   ]
  },
  {
   "cell_type": "code",
   "execution_count": null,
   "metadata": {},
   "outputs": [],
   "source": [
    "#%%time\n",
    "#sns.stripplot(x=dfMTA['new_exits'], color='black')\n",
    "#plt.xlabel('new_exits', fontsize=14)\n",
    "#plt.show()"
   ]
  },
  {
   "cell_type": "code",
   "execution_count": null,
   "metadata": {},
   "outputs": [],
   "source": [
    "#%%time\n",
    "#sns.stripplot(x=dfMTA['latitude'], color='black')\n",
    "#plt.xlabel('latitude', fontsize=14)\n",
    "#plt.show()"
   ]
  },
  {
   "cell_type": "code",
   "execution_count": null,
   "metadata": {},
   "outputs": [],
   "source": [
    "#%%time\n",
    "#sns.stripplot(x=dfMTA['longitude'], color='black')\n",
    "#plt.xlabel('longitude', fontsize=14)\n",
    "#plt.show()"
   ]
  }
 ],
 "metadata": {
  "kernelspec": {
   "display_name": "Python 3",
   "language": "python",
   "name": "python3"
  },
  "language_info": {
   "codemirror_mode": {
    "name": "ipython",
    "version": 3
   },
   "file_extension": ".py",
   "mimetype": "text/x-python",
   "name": "python",
   "nbconvert_exporter": "python",
   "pygments_lexer": "ipython3",
   "version": "3.7.5"
  }
 },
 "nbformat": 4,
 "nbformat_minor": 2
}
